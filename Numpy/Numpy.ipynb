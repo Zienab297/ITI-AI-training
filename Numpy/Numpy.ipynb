{
  "cells": [
    {
      "cell_type": "markdown",
      "metadata": {
        "id": "J7nH-LRrY-2A"
      },
      "source": [
        "# NumPy Basics\n",
        "Welcome to the beginner’s guide to NumPy! If you have comments or suggestions, please don’t hesitate to share it in the end of the session!\n",
        "\n",
        "![alt_text](S1-pics\\NumPy_logo.png)"
      ]
    },
    {
      "cell_type": "markdown",
      "metadata": {
        "id": "zSIywNQFY-2X"
      },
      "source": [
        "## How to import NumPy\n",
        "Any time you want to use a package or library in your code, you first need to make it accessible.\n",
        "\n",
        "In order to start using NumPy and all of the functions available in NumPy, you’ll need to import it. This can be easily done with this import statement:"
      ]
    },
    {
      "cell_type": "code",
      "execution_count": 1,
      "metadata": {
        "id": "YkzD9CfVY-2Y"
      },
      "outputs": [],
      "source": [
        "import numpy as np"
      ]
    },
    {
      "cell_type": "markdown",
      "metadata": {
        "id": "x0c5nwoZY-2a"
      },
      "source": [
        "(We shorten `numpy` to `np` in order to save time and also to keep code standardized so that anyone working with your code can easily understand and run it.)"
      ]
    },
    {
      "cell_type": "markdown",
      "metadata": {
        "id": "lEYzeDYRY-2a"
      },
      "source": [
        "## About Arrays\n",
        "\n",
        "\n",
        "An array is a central data structure of the NumPy library. An array is a grid of values and it contains information about the raw data, how to locate an element, and how to interpret an element. It has a grid of elements that can be indexed in various ways. The elements are all of the same type, referred to as the array `dtype`.\n"
      ]
    },
    {
      "cell_type": "markdown",
      "metadata": {
        "id": "LKbLoq37Y-2b"
      },
      "source": [
        "**For example:**\n",
        "\n",
        "Create 1-D array with values from 1 to 6"
      ]
    },
    {
      "cell_type": "code",
      "execution_count": 2,
      "metadata": {
        "id": "5ShjtQLZY-2b",
        "outputId": "b2967a18-ec05-48e4-c18c-3067d9eba29e",
        "colab": {
          "base_uri": "https://localhost:8080/"
        }
      },
      "outputs": [
        {
          "output_type": "execute_result",
          "data": {
            "text/plain": [
              "array([1, 2, 3, 4, 5, 6])"
            ]
          },
          "metadata": {},
          "execution_count": 2
        }
      ],
      "source": [
        "a = np.array([1, 2, 3, 4, 5, 6])\n",
        "a"
      ]
    },
    {
      "cell_type": "markdown",
      "metadata": {
        "id": "Yrx9QD_pY-2c"
      },
      "source": [
        "This is `1-D array`, values are hard coded.\n",
        "\n",
        "**While,**\n"
      ]
    },
    {
      "cell_type": "code",
      "execution_count": 3,
      "metadata": {
        "id": "g_fktXllY-2d",
        "outputId": "6159f3bb-baf0-4f21-88ba-47d630e31e17",
        "colab": {
          "base_uri": "https://localhost:8080/"
        }
      },
      "outputs": [
        {
          "output_type": "execute_result",
          "data": {
            "text/plain": [
              "array([[ 1,  2,  3,  4],\n",
              "       [ 5,  6,  7,  8],\n",
              "       [ 9, 10, 11, 12]])"
            ]
          },
          "metadata": {},
          "execution_count": 3
        }
      ],
      "source": [
        "a = np.array([[1, 2, 3, 4], [5, 6, 7, 8], [9, 10, 11, 12]])\n",
        "a"
      ]
    },
    {
      "cell_type": "markdown",
      "metadata": {
        "id": "d-e5k8XYY-2d"
      },
      "source": [
        "This is `2-D array`, values are also hard coded."
      ]
    },
    {
      "cell_type": "markdown",
      "metadata": {
        "id": "ldx1tUdoY-2e"
      },
      "source": [
        "### Acessing Array Elements\n",
        "We can access the elements in the array using square brackets `[]`.\n",
        "> Remember that indexing in NumPy starts at `0`.\n"
      ]
    },
    {
      "cell_type": "code",
      "execution_count": 4,
      "metadata": {
        "id": "2xL0btlKY-2e",
        "outputId": "af6f443d-3126-4671-e367-3f6404da4407",
        "colab": {
          "base_uri": "https://localhost:8080/"
        }
      },
      "outputs": [
        {
          "output_type": "execute_result",
          "data": {
            "text/plain": [
              "array([1, 2, 3, 4])"
            ]
          },
          "metadata": {},
          "execution_count": 4
        }
      ],
      "source": [
        "a[0]"
      ]
    },
    {
      "cell_type": "markdown",
      "metadata": {
        "id": "eUlSfiSgY-2f"
      },
      "source": [
        "## More about Arrays\n",
        "\n",
        "You might occasionally hear an array referred to as a `ndarray`, which is shorthand for `N-dimensional array`.\n",
        "\n",
        "An N-dimensional array is simply an array with any number of dimensions, eg: `1-D`, or `one-dimensional` array, `2-D`, or `two-dimensional` array, and so on.\n",
        "\n",
        "The `NumPy ndarray` class is used to represent both `matrices` and `vectors`.\n",
        "\n",
        "- A `vector` is an array with a `single dimension` (there’s no difference between row and column vectors),\n",
        "- while a `matrix` refers to an array with `two dimensions`.\n",
        "- For `3-D` or `higher dimensional` arrays, the term `tensor` is also commonly used.\n",
        "\n",
        "> In `NumPy`, dimensions are called `axes`.\n",
        "\n",
        "This means that if you have a 2D array that looks like this:"
      ]
    },
    {
      "cell_type": "code",
      "execution_count": 5,
      "metadata": {
        "id": "hiBUtRpZY-2g",
        "outputId": "d225f7e1-0422-4b79-adc1-f10a1d0ca0c0",
        "colab": {
          "base_uri": "https://localhost:8080/"
        }
      },
      "outputs": [
        {
          "output_type": "execute_result",
          "data": {
            "text/plain": [
              "[[0.0, 0.0, 0.0], [1.0, 1.0, 1.0]]"
            ]
          },
          "metadata": {},
          "execution_count": 5
        }
      ],
      "source": [
        "[[0., 0., 0.],\n",
        " [1., 1., 1.]]"
      ]
    },
    {
      "cell_type": "markdown",
      "metadata": {
        "id": "dQMfl9M9Y-2g"
      },
      "source": [
        "Your array has `2` axes.\n",
        "- The first axis has a length of `2` and\n",
        "- the second axis has a length of `3`.\n",
        "\n",
        "> Array **attributes** reflect information intrinsic to the array itself. If you need to get, or even set, properties of an array without creating a new array, you can often access an array through its attributes.\n",
        "[More about attribuites](https://numpy.org/doc/stable/reference/arrays.ndarray.html#arrays-ndarray)."
      ]
    },
    {
      "cell_type": "markdown",
      "metadata": {
        "id": "bK0sdV0-Y-2h"
      },
      "source": [
        "# Section 1: How to create a basic array\n",
        "This section covers `np.array()`, `np.zeros()`, `np.ones()`, `np.empty()`, `np.arange()`, `np.linspace()`, `dtype`\n",
        "\n",
        "To create a NumPy array, you can use the function `np.array()`.\n",
        "\n",
        "All you need to do to create a simple array is pass a list to it. If you choose to, you can also specify the type of data in your list.\n",
        "\n",
        "**You can find more information about data types [here](https://numpy.org/doc/stable/reference/arrays.dtypes.html#arrays-dtypes).**"
      ]
    },
    {
      "cell_type": "markdown",
      "metadata": {
        "id": "rC7CY4cLY-2h"
      },
      "source": [
        "### Basic Array"
      ]
    },
    {
      "cell_type": "code",
      "execution_count": 6,
      "metadata": {
        "id": "1XwYDk3uY-2i",
        "outputId": "54b147c9-a3eb-45ea-f867-17869c2814b4",
        "colab": {
          "base_uri": "https://localhost:8080/"
        }
      },
      "outputs": [
        {
          "output_type": "execute_result",
          "data": {
            "text/plain": [
              "array([1, 2, 3])"
            ]
          },
          "metadata": {},
          "execution_count": 6
        }
      ],
      "source": [
        "a = np.array([1, 2, 3])\n",
        "a"
      ]
    },
    {
      "cell_type": "markdown",
      "metadata": {
        "id": "O_x9IiU2Y-2j"
      },
      "source": [
        "You can visualize your array this way:\n",
        "![alt text](S1-pics\\a.png)\n",
        "*Be aware that these visualizations are meant to simplify ideas and give you a basic understanding of NumPy concepts and mechanics. Arrays and array operations are much more complicated than are captured here!*"
      ]
    },
    {
      "cell_type": "markdown",
      "metadata": {
        "id": "sA90qdg4Y-2j"
      },
      "source": [
        "### Array of Zeros\n",
        "Besides creating an `array` from a sequence of elements, you can easily create an array filled with `0`’s:\n",
        "\n",
        "*Hint*\n",
        "- Use `.zeros()` function."
      ]
    },
    {
      "cell_type": "code",
      "execution_count": 7,
      "metadata": {
        "colab": {
          "base_uri": "https://localhost:8080/"
        },
        "id": "juwKDfOOY-2j",
        "outputId": "bedf49b2-bf63-446d-e6fe-faa05791ad42"
      },
      "outputs": [
        {
          "output_type": "execute_result",
          "data": {
            "text/plain": [
              "array([[0., 0., 0.],\n",
              "       [0., 0., 0.],\n",
              "       [0., 0., 0.],\n",
              "       [0., 0., 0.]])"
            ]
          },
          "metadata": {},
          "execution_count": 7
        }
      ],
      "source": [
        "# Code Here\n",
        "z = np.zeros((4,3))\n",
        "z"
      ]
    },
    {
      "cell_type": "markdown",
      "metadata": {
        "id": "LqCwz0t_Y-2j"
      },
      "source": [
        "### Array filled with 1’s\n",
        "Write array contains `two` elements have `1`'s as values"
      ]
    },
    {
      "cell_type": "code",
      "execution_count": 8,
      "metadata": {
        "colab": {
          "base_uri": "https://localhost:8080/"
        },
        "id": "htrR82ajY-2k",
        "outputId": "5921e413-172b-4594-f6d8-3bb24a1f39d5"
      },
      "outputs": [
        {
          "output_type": "execute_result",
          "data": {
            "text/plain": [
              "array([1., 1.])"
            ]
          },
          "metadata": {},
          "execution_count": 8
        }
      ],
      "source": [
        "# Code here\n",
        "s = np.ones(2)\n",
        "s"
      ]
    },
    {
      "cell_type": "markdown",
      "metadata": {
        "id": "KhJNDlT3Y-2k"
      },
      "source": [
        "### Empty Array\n",
        "\n",
        "The function `empty` creates an array whose initial content is `random` and depends on the state of the memory. The reason to use empty over zeros (or something similar) is `speed` - just make sure to fill every element afterwards!"
      ]
    },
    {
      "cell_type": "code",
      "execution_count": 9,
      "metadata": {
        "id": "llLsrsPTY-2k",
        "outputId": "c546e129-d2d4-4d77-88a2-a1ca574fb608",
        "colab": {
          "base_uri": "https://localhost:8080/"
        }
      },
      "outputs": [
        {
          "output_type": "execute_result",
          "data": {
            "text/plain": [
              "array([1., 1., 1.])"
            ]
          },
          "metadata": {},
          "execution_count": 9
        }
      ],
      "source": [
        "# Create an empty array with 3 elements\n",
        "# Code here\n",
        "e = np.empty(3)\n",
        "e  # may vary"
      ]
    },
    {
      "cell_type": "markdown",
      "metadata": {
        "id": "9UM-d1sZY-2l"
      },
      "source": [
        "### Array within range\n",
        "\n",
        "You can create an array with a range of elements:"
      ]
    },
    {
      "cell_type": "code",
      "execution_count": 10,
      "metadata": {
        "id": "5PHiEA2QY-2l",
        "outputId": "a9895a83-53da-448e-f4f2-ea700f1332ec",
        "colab": {
          "base_uri": "https://localhost:8080/"
        }
      },
      "outputs": [
        {
          "output_type": "execute_result",
          "data": {
            "text/plain": [
              "array([0, 1, 2, 3])"
            ]
          },
          "metadata": {},
          "execution_count": 10
        }
      ],
      "source": [
        "# create an array with a range of 4\n",
        "# code here\n",
        "r = np.arange(4)\n",
        "r"
      ]
    },
    {
      "cell_type": "markdown",
      "metadata": {
        "id": "9uUnYHm-Y-2l"
      },
      "source": [
        "**Note That**\n",
        "    The array that contains a `range` of evenly spaced `intervals`. To do this, you will specify the `first number`, `last number`, and the `step size`."
      ]
    },
    {
      "cell_type": "code",
      "execution_count": 11,
      "metadata": {
        "id": "UK8lSZtQY-2l",
        "outputId": "778d96e9-1594-436f-eacf-357dd326e787",
        "colab": {
          "base_uri": "https://localhost:8080/"
        }
      },
      "outputs": [
        {
          "output_type": "execute_result",
          "data": {
            "text/plain": [
              "array([2, 4, 6, 8])"
            ]
          },
          "metadata": {},
          "execution_count": 11
        }
      ],
      "source": [
        "# create an array starts with 2, ends with 9 and step size 2.\n",
        "# code here\n",
        "i = np.arange(2, 9, 2)\n",
        "i"
      ]
    },
    {
      "cell_type": "markdown",
      "metadata": {
        "id": "e1-VRgz5Y-2m"
      },
      "source": [
        "You can also use `np.linspace()` to create an array with values that are `spaced linearly` in a specified interval:"
      ]
    },
    {
      "cell_type": "code",
      "execution_count": 12,
      "metadata": {
        "id": "lD3AODPTY-2m",
        "outputId": "c0b7827e-b5fc-460d-af71-9e4fbd7ee51c",
        "colab": {
          "base_uri": "https://localhost:8080/"
        }
      },
      "outputs": [
        {
          "output_type": "execute_result",
          "data": {
            "text/plain": [
              "array([ 0. ,  2.5,  5. ,  7.5, 10. ])"
            ]
          },
          "metadata": {},
          "execution_count": 12
        }
      ],
      "source": [
        "np.linspace(0, 10, num=5)"
      ]
    },
    {
      "cell_type": "markdown",
      "metadata": {
        "id": "BA73SlsAY-2m"
      },
      "source": [
        "### Specifying your data type\n",
        "\n",
        "While the default data type is floating point (`np.float64`), you can explicitly specify which data type you want using the `dtype` keyword."
      ]
    },
    {
      "cell_type": "code",
      "execution_count": 13,
      "metadata": {
        "id": "NTOmhRPYY-2n",
        "outputId": "552ba844-e9da-40b0-df0e-5619cd38c590",
        "colab": {
          "base_uri": "https://localhost:8080/"
        }
      },
      "outputs": [
        {
          "output_type": "execute_result",
          "data": {
            "text/plain": [
              "array([1., 1.])"
            ]
          },
          "metadata": {},
          "execution_count": 13
        }
      ],
      "source": [
        "x = np.ones(2, dtype=np.float64)\n",
        "x"
      ]
    },
    {
      "cell_type": "markdown",
      "metadata": {
        "id": "93mtHe3VY-2n"
      },
      "source": [
        "**Learn more about creating arrays [here](https://numpy.org/doc/stable/user/quickstart.html#quickstart-array-creation).**"
      ]
    },
    {
      "cell_type": "markdown",
      "metadata": {
        "id": "coBxOUHxY-2n"
      },
      "source": [
        "# Section 2: Adding, removing, and sorting elements\n",
        "This section covers `np.sort()`, `np.concatenate()`"
      ]
    },
    {
      "cell_type": "markdown",
      "metadata": {
        "id": "Il7CAQWNY-2n"
      },
      "source": [
        "### Sorting\n",
        "\n",
        "Sorting an element is simple with `np.sort()`. You can specify the `axis`, `kind`, and `order` when you call the function.\n",
        "\n",
        "If you start with this array:"
      ]
    },
    {
      "cell_type": "code",
      "execution_count": 14,
      "metadata": {
        "id": "AoCGOkztY-2o"
      },
      "outputs": [],
      "source": [
        "arr = np.array([2, 1, 5, 3, 7, 4, 6, 8])"
      ]
    },
    {
      "cell_type": "markdown",
      "metadata": {
        "id": "_f-nRPqrY-2o"
      },
      "source": [
        "You can quickly sort the numbers in `ascending order` with:"
      ]
    },
    {
      "cell_type": "code",
      "execution_count": 15,
      "metadata": {
        "id": "cnPtpfFIY-2o",
        "outputId": "89a4f321-981d-4894-e11c-c82a86267398",
        "colab": {
          "base_uri": "https://localhost:8080/"
        }
      },
      "outputs": [
        {
          "output_type": "execute_result",
          "data": {
            "text/plain": [
              "array([1, 2, 3, 4, 5, 6, 7, 8])"
            ]
          },
          "metadata": {},
          "execution_count": 15
        }
      ],
      "source": [
        "# code here\n",
        "np.sort(arr)"
      ]
    },
    {
      "cell_type": "markdown",
      "metadata": {
        "id": "R83nYZ4LY-2x"
      },
      "source": [
        "In addition to `sort`, which returns a sorted copy of an array, you can use:\n",
        "\n",
        "- `argsort`, which is an indirect sort along a specified axis,\n",
        "- `lexsort`, which is an indirect stable sort on multiple keys,\n",
        "- `searchsorted`, which will find elements in a sorted array, and\n",
        "- `partition`, which is a partial sort.\n",
        "\n",
        "To read more about sorting an array, see: [sort](https://numpy.org/doc/stable/reference/generated/numpy.sort.html#numpy.sort)."
      ]
    },
    {
      "cell_type": "markdown",
      "metadata": {
        "id": "ooNQn0FlY-2y"
      },
      "source": [
        "### Concatenating\n",
        "If you start with these arrays:"
      ]
    },
    {
      "cell_type": "code",
      "execution_count": 16,
      "metadata": {
        "id": "wIgPkyDtY-2y"
      },
      "outputs": [],
      "source": [
        "a = np.array([1, 2, 3, 4])\n",
        "b = np.array([5, 6, 7, 8])"
      ]
    },
    {
      "cell_type": "markdown",
      "metadata": {
        "id": "mBHlMSHRY-2z"
      },
      "source": [
        "You can concatenate them with `np.concatenate()`."
      ]
    },
    {
      "cell_type": "code",
      "execution_count": 17,
      "metadata": {
        "id": "jTWFx9DzY-2z",
        "outputId": "a28a84c9-e0e7-4126-8061-23baa59e6c7c",
        "colab": {
          "base_uri": "https://localhost:8080/"
        }
      },
      "outputs": [
        {
          "output_type": "execute_result",
          "data": {
            "text/plain": [
              "array([1, 2, 3, 4, 5, 6, 7, 8])"
            ]
          },
          "metadata": {},
          "execution_count": 17
        }
      ],
      "source": [
        "# Code here\n",
        "c = np.concatenate((a, b))\n",
        "c"
      ]
    },
    {
      "cell_type": "markdown",
      "metadata": {
        "id": "P7WHGme3Y-2z"
      },
      "source": [
        "Or, if you start with these arrays:"
      ]
    },
    {
      "cell_type": "code",
      "execution_count": 18,
      "metadata": {
        "id": "I4f5EjMhY-20",
        "colab": {
          "base_uri": "https://localhost:8080/"
        },
        "outputId": "68dad6ba-15ea-40bb-c73c-6215f99c0614"
      },
      "outputs": [
        {
          "output_type": "execute_result",
          "data": {
            "text/plain": [
              "(1, 2)"
            ]
          },
          "metadata": {},
          "execution_count": 18
        }
      ],
      "source": [
        "import numpy as np\n",
        "x = np.array([[1, 2], [3, 4]])  #(2*2)\n",
        "y = np.array([[5, 6]])   #shape(1*2)\n",
        "np.shape(y)"
      ]
    },
    {
      "cell_type": "markdown",
      "metadata": {
        "id": "2KsCqV2sY-20"
      },
      "source": [
        "You can concatenate them with:"
      ]
    },
    {
      "cell_type": "code",
      "execution_count": 19,
      "metadata": {
        "id": "O7hqHCjdY-20",
        "outputId": "bb5544e6-3133-43f1-f483-22bad46d4cf9",
        "colab": {
          "base_uri": "https://localhost:8080/"
        }
      },
      "outputs": [
        {
          "output_type": "execute_result",
          "data": {
            "text/plain": [
              "array([[1, 2],\n",
              "       [3, 4],\n",
              "       [5, 6]])"
            ]
          },
          "metadata": {},
          "execution_count": 19
        }
      ],
      "source": [
        "np.concatenate((x, y), axis=0)"
      ]
    },
    {
      "cell_type": "code",
      "source": [
        "#np.concatenate((x, y), axis=1)\n",
        "y.shape = (2,1)\n",
        "np.concatenate((x, y), axis=1)"
      ],
      "metadata": {
        "colab": {
          "base_uri": "https://localhost:8080/"
        },
        "id": "b_7MNn_WePOZ",
        "outputId": "797d1f88-2c97-437c-dcd5-e0df3d02e508"
      },
      "execution_count": 20,
      "outputs": [
        {
          "output_type": "execute_result",
          "data": {
            "text/plain": [
              "array([[1, 2, 5],\n",
              "       [3, 4, 6]])"
            ]
          },
          "metadata": {},
          "execution_count": 20
        }
      ]
    },
    {
      "cell_type": "markdown",
      "metadata": {
        "id": "CJhSJdRwY-21"
      },
      "source": [
        "**To read more about concatenate, see: [concatenate](https://numpy.org/doc/stable/reference/generated/numpy.concatenate.html#numpy.concatenate).**"
      ]
    },
    {
      "cell_type": "markdown",
      "metadata": {
        "id": "uAMCVzT0Y-21"
      },
      "source": [
        "# Section 3: How do you know the shape and size of an array?\n",
        "This section covers `ndarray.ndim`, `ndarray.size`, `ndarray.shape`"
      ]
    },
    {
      "cell_type": "markdown",
      "metadata": {
        "id": "9lwACMWQY-21"
      },
      "source": [
        "\n",
        "- `ndarray.ndim` will tell you the number of `axes`, or `dimensions`, of the array.\n",
        "\n",
        "- `ndarray.size` will tell you the `total number of elements` of the array. This is the product of the elements of the array’s shape.\n",
        "\n",
        "- `ndarray.shape` will display a `tuple` of integers that indicate the `number of elements` stored `along each dimension` of the array. If, for example, you have a `2-D` array with `2` rows and `3` columns, the shape of your array is `(2, 3)`.\n",
        "\n",
        "**For example**, if you create this array:"
      ]
    },
    {
      "cell_type": "code",
      "execution_count": 21,
      "metadata": {
        "id": "9QENgPjpY-22"
      },
      "outputs": [],
      "source": [
        "array_example = np.array([[[0, 1, 2, 3],\n",
        "                           [4, 5, 6, 7]],\n",
        "\n",
        "                           [[0, 1, 2, 3],\n",
        "                            [4, 5, 6, 7]],\n",
        "\n",
        "                           [[0 ,1 ,2, 3],\n",
        "                            [4, 5, 6, 7]]])"
      ]
    },
    {
      "cell_type": "markdown",
      "metadata": {
        "id": "OWjjZ5OYY-22"
      },
      "source": [
        "**Q1  Find the number of dimensions of the array**"
      ]
    },
    {
      "cell_type": "code",
      "execution_count": 22,
      "metadata": {
        "id": "6zkBEGerY-22",
        "colab": {
          "base_uri": "https://localhost:8080/"
        },
        "outputId": "e81fcb31-5f49-41c0-8789-b7ad83617e3a"
      },
      "outputs": [
        {
          "output_type": "execute_result",
          "data": {
            "text/plain": [
              "(3, 2, 4)"
            ]
          },
          "metadata": {},
          "execution_count": 22
        }
      ],
      "source": [
        "# Code here\n",
        "np.ndim(array_example)\n",
        "array_example.shape"
      ]
    },
    {
      "cell_type": "markdown",
      "metadata": {
        "id": "az_tq7dWY-23"
      },
      "source": [
        "**Q2 Find the total number of elements in the array.**"
      ]
    },
    {
      "cell_type": "code",
      "execution_count": 23,
      "metadata": {
        "id": "nzXF4Ts2Y-23",
        "outputId": "a79909e7-85fd-47f3-fc56-6cbe5fb2efae",
        "colab": {
          "base_uri": "https://localhost:8080/"
        }
      },
      "outputs": [
        {
          "output_type": "execute_result",
          "data": {
            "text/plain": [
              "24"
            ]
          },
          "metadata": {},
          "execution_count": 23
        }
      ],
      "source": [
        "# Code Here\n",
        "np.size(array_example)"
      ]
    },
    {
      "cell_type": "code",
      "execution_count": 24,
      "metadata": {
        "id": "uF-ILDd2Y-23",
        "outputId": "c3c4ef03-6f5e-4399-8397-7d20362baff0",
        "colab": {
          "base_uri": "https://localhost:8080/"
        }
      },
      "outputs": [
        {
          "output_type": "execute_result",
          "data": {
            "text/plain": [
              "(3, 2, 4)"
            ]
          },
          "metadata": {},
          "execution_count": 24
        }
      ],
      "source": [
        "# And to find the shape of your array, run:\n",
        "array_example.shape"
      ]
    },
    {
      "cell_type": "markdown",
      "metadata": {
        "id": "QnxvrkrUY-24"
      },
      "source": [
        "# Sectin 4: Can you reshape an array?\n",
        "This section covers `arr.reshape()`\n",
        "\n",
        "**Yes!**\n",
        "\n",
        "Using `arr.reshape()` will give a new shape to an array without changing the data.\n",
        "\n",
        "> Just remember that when you use the reshape method, the array you want to produce needs to have the `same number of elements` as the original array.\n",
        "\n",
        "> If you `start` with an array with `12 elements`, you’ll need to make sure that your `new array` also has a total of `12 elements`.\n",
        "\n",
        "If you start with this array:"
      ]
    },
    {
      "cell_type": "code",
      "execution_count": 25,
      "metadata": {
        "id": "-X9I5nqVY-24",
        "outputId": "9576f0ae-b82e-4985-9cfc-82145c223854",
        "colab": {
          "base_uri": "https://localhost:8080/"
        }
      },
      "outputs": [
        {
          "output_type": "execute_result",
          "data": {
            "text/plain": [
              "(6,)"
            ]
          },
          "metadata": {},
          "execution_count": 25
        }
      ],
      "source": [
        "a = np.arange(6)\n",
        "a\n",
        "np.shape(a)"
      ]
    },
    {
      "cell_type": "markdown",
      "metadata": {
        "id": "OLM_RpeOY-25"
      },
      "source": [
        "You can use `reshape()` to reshape your array.\n",
        "\n",
        "**Try to reshape this array to an array with `three rows` and `two columns`:**"
      ]
    },
    {
      "cell_type": "code",
      "execution_count": 26,
      "metadata": {
        "id": "IpIuBOHqY-25",
        "outputId": "b6a9e406-409a-4c7a-d1e8-a01e715dafe7",
        "colab": {
          "base_uri": "https://localhost:8080/"
        }
      },
      "outputs": [
        {
          "output_type": "execute_result",
          "data": {
            "text/plain": [
              "array([[0, 1],\n",
              "       [2, 3],\n",
              "       [4, 5]])"
            ]
          },
          "metadata": {},
          "execution_count": 26
        }
      ],
      "source": [
        "# Code here\n",
        "b = np.reshape(a, newshape=(3, 2))\n",
        "b"
      ]
    },
    {
      "cell_type": "markdown",
      "metadata": {
        "id": "g3swBQ4BY-25"
      },
      "source": [
        "**Another Way**\n",
        "\n",
        "With `np.reshape`, you can specify a few optional parameters:\n"
      ]
    },
    {
      "cell_type": "code",
      "execution_count": 27,
      "metadata": {
        "id": "YfP1zxRPY-26",
        "outputId": "136e6369-fa12-4638-8a36-48e47ec52605",
        "colab": {
          "base_uri": "https://localhost:8080/"
        }
      },
      "outputs": [
        {
          "output_type": "execute_result",
          "data": {
            "text/plain": [
              "array([[0, 1, 2],\n",
              "       [3, 4, 5]])"
            ]
          },
          "metadata": {},
          "execution_count": 27
        }
      ],
      "source": [
        "np.reshape(a, newshape=(2, 3))"
      ]
    },
    {
      "cell_type": "markdown",
      "metadata": {
        "id": "ucs2Zx7ZY-26"
      },
      "source": [
        "**Learn more about shape manipulation [here](https://numpy.org/doc/stable/user/quickstart.html#quickstart-shape-manipulation).**"
      ]
    },
    {
      "cell_type": "markdown",
      "metadata": {
        "id": "AxuZXuvxY-27"
      },
      "source": [
        "# Section 5: How to convert a 1D array into a 2D array (how to add a new axis to an array)\n",
        "This section covers `np.newaxis`, `np.expand_dims`\n",
        "\n",
        "You can use `np.newaxis` and `np.expand_dims` to increase the dimensions of your existing array.\n",
        "\n",
        "Using `np.newaxis` will increase the dimensions of your array by one dimension when used once. This means that a `1D` array will become a `2D` array, a `2D` array will become a `3D` array, and so on.\n",
        "\n",
        "**For example**, if you start with this array:"
      ]
    },
    {
      "cell_type": "code",
      "execution_count": 28,
      "metadata": {
        "id": "jyKEAJyNY-27",
        "outputId": "ee5ec5bf-ebc6-47c8-ac12-ba4b351c3c3b",
        "colab": {
          "base_uri": "https://localhost:8080/"
        }
      },
      "outputs": [
        {
          "output_type": "execute_result",
          "data": {
            "text/plain": [
              "(6,)"
            ]
          },
          "metadata": {},
          "execution_count": 28
        }
      ],
      "source": [
        "a = np.array([1, 2, 3, 4, 5, 6])\n",
        "a.shape"
      ]
    },
    {
      "cell_type": "markdown",
      "metadata": {
        "id": "6HKqdNI5Y-27"
      },
      "source": [
        "You can use `np.newaxis` to add a new axis:"
      ]
    },
    {
      "cell_type": "code",
      "execution_count": 29,
      "metadata": {
        "id": "-4ksRr9PY-28",
        "outputId": "4c8fc2a9-daa6-497c-f17b-825381cef5f6",
        "colab": {
          "base_uri": "https://localhost:8080/"
        }
      },
      "outputs": [
        {
          "output_type": "execute_result",
          "data": {
            "text/plain": [
              "(1, 6)"
            ]
          },
          "metadata": {},
          "execution_count": 29
        }
      ],
      "source": [
        "a2 = a[np.newaxis, :]\n",
        "a2.shape"
      ]
    },
    {
      "cell_type": "code",
      "execution_count": 30,
      "metadata": {
        "id": "H2CnRQpqY-28",
        "outputId": "3069a3f6-4aba-41e4-b74b-024d2904de13",
        "colab": {
          "base_uri": "https://localhost:8080/"
        }
      },
      "outputs": [
        {
          "output_type": "execute_result",
          "data": {
            "text/plain": [
              "array([[1, 2, 3, 4, 5, 6]])"
            ]
          },
          "metadata": {},
          "execution_count": 30
        }
      ],
      "source": [
        "a2"
      ]
    },
    {
      "cell_type": "markdown",
      "metadata": {
        "id": "kxTNy4mcY-28"
      },
      "source": [
        "You can explicitly convert a 1D array with either a row vector or a column vector using np.newaxis. For example, you can convert a 1D array to a row vector by inserting an axis along the first dimension:"
      ]
    },
    {
      "cell_type": "code",
      "execution_count": 31,
      "metadata": {
        "id": "ozuiSvO_Y-29",
        "outputId": "61446d4e-b36f-4447-ea3f-8c4ced217090",
        "colab": {
          "base_uri": "https://localhost:8080/"
        }
      },
      "outputs": [
        {
          "output_type": "execute_result",
          "data": {
            "text/plain": [
              "(1, 6)"
            ]
          },
          "metadata": {},
          "execution_count": 31
        }
      ],
      "source": [
        "row_vector = a[np.newaxis, :]\n",
        "row_vector.shape"
      ]
    },
    {
      "cell_type": "markdown",
      "metadata": {
        "id": "SnYou4TgY-29"
      },
      "source": [
        "Or, for a column vector, you can insert an axis along the second dimension:"
      ]
    },
    {
      "cell_type": "code",
      "execution_count": 32,
      "metadata": {
        "id": "h1sUtgUoY-2-",
        "outputId": "05a6b795-a7e4-482a-dc2b-798db8000020",
        "colab": {
          "base_uri": "https://localhost:8080/"
        }
      },
      "outputs": [
        {
          "output_type": "execute_result",
          "data": {
            "text/plain": [
              "(6, 1)"
            ]
          },
          "metadata": {},
          "execution_count": 32
        }
      ],
      "source": [
        "col_vector = a[:, np.newaxis]\n",
        "col_vector.shape"
      ]
    },
    {
      "cell_type": "markdown",
      "metadata": {
        "id": "R-qRkyEeY-2-"
      },
      "source": [
        "You can also expand an array by inserting a new axis at a specified `position` with `np.expand_dims`.\n",
        "- `0` index means row\n",
        "- `1` index means column\n",
        "\n",
        "**For example**, if you start with this array:"
      ]
    },
    {
      "cell_type": "code",
      "execution_count": 33,
      "metadata": {
        "id": "TDeBI-f6Y-2-",
        "outputId": "0bbb1218-75b7-4b34-a834-30758ce529e8",
        "colab": {
          "base_uri": "https://localhost:8080/"
        }
      },
      "outputs": [
        {
          "output_type": "execute_result",
          "data": {
            "text/plain": [
              "(6,)"
            ]
          },
          "metadata": {},
          "execution_count": 33
        }
      ],
      "source": [
        "a = np.array([1, 2, 3, 4, 5, 6])\n",
        "a.shape"
      ]
    },
    {
      "cell_type": "markdown",
      "metadata": {
        "id": "Ss3_fUFpY-2_"
      },
      "source": [
        "You can use `np.expand_dims` to add an axis at index `position 1` with:"
      ]
    },
    {
      "cell_type": "code",
      "execution_count": 34,
      "metadata": {
        "id": "ryvM2ei-Y-2_",
        "outputId": "2e475d7a-e18f-409c-c63b-d0ea004fa14d",
        "colab": {
          "base_uri": "https://localhost:8080/"
        }
      },
      "outputs": [
        {
          "output_type": "execute_result",
          "data": {
            "text/plain": [
              "(6, 1)"
            ]
          },
          "metadata": {},
          "execution_count": 34
        }
      ],
      "source": [
        "b = np.expand_dims(a, axis=1)\n",
        "b.shape"
      ]
    },
    {
      "cell_type": "markdown",
      "metadata": {
        "id": "KEnB1moWY-3A"
      },
      "source": [
        "You can add an axis at index `position 0` with:"
      ]
    },
    {
      "cell_type": "code",
      "execution_count": 35,
      "metadata": {
        "id": "66FsYfc8Y-3B",
        "outputId": "1c15f99a-7e38-490d-e9c8-bdec5cbc0f94",
        "colab": {
          "base_uri": "https://localhost:8080/"
        }
      },
      "outputs": [
        {
          "output_type": "execute_result",
          "data": {
            "text/plain": [
              "(1, 6)"
            ]
          },
          "metadata": {},
          "execution_count": 35
        }
      ],
      "source": [
        "c = np.expand_dims(a, axis=0)\n",
        "c.shape"
      ]
    },
    {
      "cell_type": "markdown",
      "metadata": {
        "id": "ae_5xPJvY-3C"
      },
      "source": [
        "**Find more information about [newaxis here](https://numpy.org/doc/stable/reference/arrays.indexing.html#arrays-indexing) and [expand_dims here](https://numpy.org/doc/stable/reference/generated/numpy.expand_dims.html#numpy.expand_dims).**"
      ]
    },
    {
      "cell_type": "markdown",
      "metadata": {
        "id": "0Zt3MbLJY-3D"
      },
      "source": [
        "# Section 6: Indexing and slicing\n",
        "You can index and slice NumPy arrays in the same ways you can slice Python lists.\n",
        "\n",
        "You may want to take a section of your array or specific array elements to use in further analysis or additional operations.\n",
        ">To do that, you’ll need to `subset`, `slice`, and/or `index` your arrays."
      ]
    },
    {
      "cell_type": "code",
      "execution_count": 36,
      "metadata": {
        "id": "pJcF9pgOY-3D"
      },
      "outputs": [],
      "source": [
        "data = np.array([1, 2, 3])"
      ]
    },
    {
      "cell_type": "markdown",
      "metadata": {
        "id": "j6eFJFrTY-3D"
      },
      "source": [
        "**You can visualize it this way:**\n",
        "![alt text](S1-pics\\slice.png)"
      ]
    },
    {
      "cell_type": "code",
      "execution_count": 37,
      "metadata": {
        "id": "rrwsoJDaY-3E",
        "outputId": "39e52bbe-e1d1-4c5b-cb5c-95c71de86c8e",
        "colab": {
          "base_uri": "https://localhost:8080/"
        }
      },
      "outputs": [
        {
          "output_type": "execute_result",
          "data": {
            "text/plain": [
              "2"
            ]
          },
          "metadata": {},
          "execution_count": 37
        }
      ],
      "source": [
        "data[1]"
      ]
    },
    {
      "cell_type": "code",
      "execution_count": 38,
      "metadata": {
        "id": "JbB8OOJ4Y-3E",
        "outputId": "a6250665-5214-4c9f-c4c4-0ca8fd6cdcb8",
        "colab": {
          "base_uri": "https://localhost:8080/"
        }
      },
      "outputs": [
        {
          "output_type": "execute_result",
          "data": {
            "text/plain": [
              "array([1, 2])"
            ]
          },
          "metadata": {},
          "execution_count": 38
        }
      ],
      "source": [
        "data[0:2]"
      ]
    },
    {
      "cell_type": "code",
      "execution_count": 39,
      "metadata": {
        "id": "IJ4DUNO0Y-3F",
        "outputId": "ed261ff0-4487-4803-d41c-ba756af72b7c",
        "colab": {
          "base_uri": "https://localhost:8080/"
        }
      },
      "outputs": [
        {
          "output_type": "execute_result",
          "data": {
            "text/plain": [
              "array([2, 3])"
            ]
          },
          "metadata": {},
          "execution_count": 39
        }
      ],
      "source": [
        "data[1:]"
      ]
    },
    {
      "cell_type": "code",
      "execution_count": 40,
      "metadata": {
        "id": "ZMPG6ajNY-3F",
        "outputId": "fbbd842f-5e9f-48f7-bc0d-833770604bc5",
        "colab": {
          "base_uri": "https://localhost:8080/"
        }
      },
      "outputs": [
        {
          "output_type": "execute_result",
          "data": {
            "text/plain": [
              "array([2, 3])"
            ]
          },
          "metadata": {},
          "execution_count": 40
        }
      ],
      "source": [
        "data[-2:]"
      ]
    },
    {
      "cell_type": "markdown",
      "metadata": {
        "id": "uZY00AtNY-3F"
      },
      "source": [
        "If you want to `select values` from your array that fulfill `certain conditions`, it’s straightforward with NumPy.\n",
        "\n",
        "**For example**, if you start with this array:"
      ]
    },
    {
      "cell_type": "code",
      "execution_count": 41,
      "metadata": {
        "id": "L44Auf99Y-3G",
        "outputId": "a1c0bb1a-58e1-41de-f208-9b982d484187",
        "colab": {
          "base_uri": "https://localhost:8080/"
        }
      },
      "outputs": [
        {
          "output_type": "execute_result",
          "data": {
            "text/plain": [
              "array([[ 1,  2,  3,  4],\n",
              "       [ 5,  6,  7,  8],\n",
              "       [ 9, 10, 11, 12]])"
            ]
          },
          "metadata": {},
          "execution_count": 41
        }
      ],
      "source": [
        "a = np.array([[1 , 2, 3, 4], [5, 6, 7, 8], [9, 10, 11, 12]])\n",
        "a"
      ]
    },
    {
      "cell_type": "markdown",
      "metadata": {
        "id": "Qn94AXFDY-3G"
      },
      "source": [
        "You can easily print all of the values in the array that are `less than 5`."
      ]
    },
    {
      "cell_type": "code",
      "execution_count": 42,
      "metadata": {
        "id": "7jG8QRWxY-3H",
        "outputId": "c50263f8-ad85-4722-860f-e82841dd0f5a",
        "colab": {
          "base_uri": "https://localhost:8080/"
        }
      },
      "outputs": [
        {
          "output_type": "execute_result",
          "data": {
            "text/plain": [
              "array([1, 2, 3, 4])"
            ]
          },
          "metadata": {},
          "execution_count": 42
        }
      ],
      "source": [
        "a[a < 5]"
      ]
    },
    {
      "cell_type": "markdown",
      "metadata": {
        "id": "K3mq1KjFY-3H"
      },
      "source": [
        "**Try this**\n",
        "- Select all numbers that are `equal` to or `greater` than `5`."
      ]
    },
    {
      "cell_type": "code",
      "execution_count": 43,
      "metadata": {
        "id": "IeV3xrSkY-3H",
        "outputId": "c1316e53-8492-40b2-9b66-ad7ae86c500c",
        "colab": {
          "base_uri": "https://localhost:8080/"
        }
      },
      "outputs": [
        {
          "output_type": "execute_result",
          "data": {
            "text/plain": [
              "array([ 5,  6,  7,  8,  9, 10, 11, 12])"
            ]
          },
          "metadata": {},
          "execution_count": 43
        }
      ],
      "source": [
        "# code here\n",
        "five_up = a[a >= 5]\n",
        "five_up"
      ]
    },
    {
      "cell_type": "markdown",
      "metadata": {
        "id": "eo1Qkdn8Y-3I"
      },
      "source": [
        "**Try this**\n",
        "- Use that condition to index an array."
      ]
    },
    {
      "cell_type": "code",
      "execution_count": 44,
      "metadata": {
        "id": "Oof3o7-PY-3I",
        "outputId": "44584ded-2241-493c-8cc4-8fcf03011ece",
        "colab": {
          "base_uri": "https://localhost:8080/"
        }
      },
      "outputs": [
        {
          "output_type": "execute_result",
          "data": {
            "text/plain": [
              "(array([1, 1, 1, 1, 2, 2, 2, 2]), array([0, 1, 2, 3, 0, 1, 2, 3]))"
            ]
          },
          "metadata": {},
          "execution_count": 44
        }
      ],
      "source": [
        "# code here\n",
        "inds = np.nonzero(a >= 5)\n",
        "inds"
      ]
    },
    {
      "cell_type": "markdown",
      "metadata": {
        "id": "pdnhyA-iY-3I"
      },
      "source": [
        "**Try This**\n",
        "- Select elements that are `divisible by 2`."
      ]
    },
    {
      "cell_type": "code",
      "execution_count": 45,
      "metadata": {
        "id": "3lvbIvoIY-3I",
        "outputId": "7e27be8b-da3d-4029-944d-26985a414e67",
        "colab": {
          "base_uri": "https://localhost:8080/"
        }
      },
      "outputs": [
        {
          "output_type": "execute_result",
          "data": {
            "text/plain": [
              "array([ 2,  4,  6,  8, 10, 12])"
            ]
          },
          "metadata": {},
          "execution_count": 45
        }
      ],
      "source": [
        "# Code here\n",
        "divisible_by_2 = a[a%2 == 0]\n",
        "divisible_by_2"
      ]
    },
    {
      "cell_type": "markdown",
      "metadata": {
        "id": "_tIB5qzOY-3J"
      },
      "source": [
        "**Also, you can select elements that satisfy two conditions using the `&` and `|` operators:**"
      ]
    },
    {
      "cell_type": "code",
      "execution_count": 46,
      "metadata": {
        "id": "wIoEIASvY-3J",
        "outputId": "4937dad8-fe6e-4244-dff1-b011f4253a4f",
        "colab": {
          "base_uri": "https://localhost:8080/"
        }
      },
      "outputs": [
        {
          "output_type": "execute_result",
          "data": {
            "text/plain": [
              "array([ 3,  4,  5,  6,  7,  8,  9, 10])"
            ]
          },
          "metadata": {},
          "execution_count": 46
        }
      ],
      "source": [
        "c = a[(a > 2) & (a < 11)]\n",
        "c"
      ]
    },
    {
      "cell_type": "markdown",
      "metadata": {
        "id": "s4rylvuVY-3J"
      },
      "source": [
        "You can also make use of the logical operators `&` and `|` in order to `return boolean values` that specify whether or not the values in an array fulfill a certain condition.\n",
        "\n",
        "**This can be useful with arrays that contain names or other categorical values.**"
      ]
    },
    {
      "cell_type": "code",
      "execution_count": 47,
      "metadata": {
        "id": "hWb6LhM6Y-3K",
        "outputId": "7fce4321-80b3-465d-c21c-86e76f34a753",
        "colab": {
          "base_uri": "https://localhost:8080/"
        }
      },
      "outputs": [
        {
          "output_type": "execute_result",
          "data": {
            "text/plain": [
              "array([[False, False, False, False],\n",
              "       [ True,  True,  True,  True],\n",
              "       [ True,  True,  True,  True]])"
            ]
          },
          "metadata": {},
          "execution_count": 47
        }
      ],
      "source": [
        "five_up = (a > 5) | (a == 5)\n",
        "five_up"
      ]
    },
    {
      "cell_type": "markdown",
      "metadata": {
        "id": "gI4_WbSiY-3K"
      },
      "source": [
        "### You can also use `np.nonzero()` to select elements or indices from an array.\n",
        "\n",
        "Starting with this array:"
      ]
    },
    {
      "cell_type": "code",
      "execution_count": 48,
      "metadata": {
        "id": "YJ0UmuAyY-3L",
        "outputId": "6c0c6a70-2ecc-4886-a258-dc53a0abc4a9",
        "colab": {
          "base_uri": "https://localhost:8080/"
        }
      },
      "outputs": [
        {
          "output_type": "execute_result",
          "data": {
            "text/plain": [
              "array([[ 1,  2,  3,  4],\n",
              "       [ 5,  6,  7,  8],\n",
              "       [ 9, 10, 11, 12]])"
            ]
          },
          "metadata": {},
          "execution_count": 48
        }
      ],
      "source": [
        "a = np.array([[1, 2, 3, 4], [5, 6, 7, 8], [9, 10, 11, 12]])\n",
        "a"
      ]
    },
    {
      "cell_type": "markdown",
      "metadata": {
        "id": "UkkWAqVqY-3L"
      },
      "source": [
        "You can use `np.nonzero()` to print the indices of elements that are `less than 5`:"
      ]
    },
    {
      "cell_type": "code",
      "execution_count": 49,
      "metadata": {
        "id": "P8TXFUqPY-3L",
        "outputId": "eee57c8a-ffba-402d-f437-bbd008fd75d3",
        "colab": {
          "base_uri": "https://localhost:8080/"
        }
      },
      "outputs": [
        {
          "output_type": "execute_result",
          "data": {
            "text/plain": [
              "(array([0, 0, 0, 0]), array([0, 1, 2, 3]))"
            ]
          },
          "metadata": {},
          "execution_count": 49
        }
      ],
      "source": [
        "b = np.nonzero(a < 5)\n",
        "b"
      ]
    },
    {
      "cell_type": "markdown",
      "metadata": {
        "id": "IbUD0HChY-3M"
      },
      "source": [
        "In this example, a `tuple` of arrays was returned:\n",
        "- one for each dimension.\n",
        "- The `first array` represents the `row indices` where these values are found, and\n",
        "- the `second array` represents the `column indices` where the values are found."
      ]
    },
    {
      "cell_type": "markdown",
      "metadata": {
        "id": "pys4mW3eY-3M"
      },
      "source": [
        "**You can also use `np.nonzero()` to print the elements in an array that are `less than 5` with:**"
      ]
    },
    {
      "cell_type": "code",
      "execution_count": 50,
      "metadata": {
        "id": "99Gfb9R1Y-3M",
        "outputId": "2ddfc0dd-a21d-4f92-9f2a-99330bcdd793",
        "colab": {
          "base_uri": "https://localhost:8080/"
        }
      },
      "outputs": [
        {
          "output_type": "stream",
          "name": "stdout",
          "text": [
            "[1 2 3 4]\n"
          ]
        }
      ],
      "source": [
        "print(a[b])"
      ]
    },
    {
      "cell_type": "markdown",
      "metadata": {
        "id": "w0EDv6jEY-3N"
      },
      "source": [
        "**What if**\n",
        "\n",
        "The `element` you’re looking for `doesn’t exist` in the array ?\n",
        "- then the returned array of indices will be `empty`.\n",
        "\n",
        "For example:"
      ]
    },
    {
      "cell_type": "code",
      "execution_count": 51,
      "metadata": {
        "id": "aJQWOlsGY-3N",
        "outputId": "54e35360-2ec2-4705-8f1f-b0489816e16f",
        "colab": {
          "base_uri": "https://localhost:8080/"
        }
      },
      "outputs": [
        {
          "output_type": "execute_result",
          "data": {
            "text/plain": [
              "(array([], dtype=int64), array([], dtype=int64))"
            ]
          },
          "metadata": {},
          "execution_count": 51
        }
      ],
      "source": [
        "not_there = np.nonzero(a == 42)\n",
        "not_there"
      ]
    },
    {
      "cell_type": "markdown",
      "metadata": {
        "id": "o9i7hAdrY-3O"
      },
      "source": [
        "**Learn more about [indexing and slicing here](https://numpy.org/doc/stable/user/quickstart.html#quickstart-indexing-slicing-and-iterating) and [here](https://numpy.org/doc/stable/user/basics.indexing.html#basics-indexing)**.\n",
        "\n",
        "**Read more about using the nonzero function at: [nonzero](https://numpy.org/doc/stable/reference/generated/numpy.nonzero.html#numpy.nonzero)**.\n",
        "\n"
      ]
    },
    {
      "cell_type": "markdown",
      "metadata": {
        "id": "akU8MRM9Y-3O"
      },
      "source": [
        "# Section 7: How to create an array from existing data\n",
        "This section covers `slicing` and `indexing`, `np.vstack()`, `np.hstack()`, `np.hsplit()`, `.view()`, `copy()`\n",
        "\n",
        "You can easily use create a new array from a section of an existing array.\n",
        "\n",
        "**Let’s say you have this array:**"
      ]
    },
    {
      "cell_type": "code",
      "execution_count": 52,
      "metadata": {
        "id": "H7v_CIhnY-3O",
        "outputId": "30981193-5d92-455a-85f1-6ff52b193dfb",
        "colab": {
          "base_uri": "https://localhost:8080/"
        }
      },
      "outputs": [
        {
          "output_type": "execute_result",
          "data": {
            "text/plain": [
              "array([ 1,  2,  3,  4,  5,  6,  7,  8,  9, 10])"
            ]
          },
          "metadata": {},
          "execution_count": 52
        }
      ],
      "source": [
        "a = np.array([1,  2,  3,  4,  5,  6,  7,  8,  9, 10])\n",
        "a"
      ]
    },
    {
      "cell_type": "markdown",
      "metadata": {
        "id": "G5nNl4usY-3P"
      },
      "source": [
        "### Slicing\n",
        "You can create a `new array` from a section of your array any time by specifying where you want to `slice` your array.\n",
        "\n",
        "**Try To**\n",
        "- Grabbed a section of your array from index `position 3` through index `position 8`."
      ]
    },
    {
      "cell_type": "code",
      "execution_count": 53,
      "metadata": {
        "id": "Fq6jKQd5Y-3P",
        "outputId": "3437d292-1f8f-41ed-fed1-eb2d69277f3c",
        "colab": {
          "base_uri": "https://localhost:8080/"
        }
      },
      "outputs": [
        {
          "output_type": "execute_result",
          "data": {
            "text/plain": [
              "array([4, 5, 6, 7, 8])"
            ]
          },
          "metadata": {},
          "execution_count": 53
        }
      ],
      "source": [
        "arr1 = a[3:8]\n",
        "arr1"
      ]
    },
    {
      "cell_type": "markdown",
      "metadata": {
        "id": "JZi-6wuiY-3P"
      },
      "source": [
        "### Stack two existing arrays\n",
        "\n",
        "You can also stack two existing arrays, both `vertically` and `horizontally`.\n",
        "\n",
        "**Let’s say you have two arrays, `a1` and `a2`:**"
      ]
    },
    {
      "cell_type": "code",
      "execution_count": 54,
      "metadata": {
        "id": "_EegB6P1Y-3Q"
      },
      "outputs": [],
      "source": [
        "a1 = np.array([[1, 1],\n",
        "                [2, 2]])\n",
        "\n",
        "a2 = np.array([[3, 3],\n",
        "                [4, 4]])"
      ]
    },
    {
      "cell_type": "markdown",
      "metadata": {
        "id": "88no0lKvY-3Q"
      },
      "source": [
        "**Try to stack them `vertically` with `vstack`:**"
      ]
    },
    {
      "cell_type": "code",
      "execution_count": 76,
      "metadata": {
        "id": "edSS70qiY-3Q",
        "outputId": "4e1a41d1-5822-46aa-fa20-adfb74430743",
        "colab": {
          "base_uri": "https://localhost:8080/"
        }
      },
      "outputs": [
        {
          "output_type": "execute_result",
          "data": {
            "text/plain": [
              "array([[1, 1],\n",
              "       [2, 2],\n",
              "       [3, 3],\n",
              "       [4, 4]])"
            ]
          },
          "metadata": {},
          "execution_count": 76
        }
      ],
      "source": [
        "# Code here\n",
        "np.vstack((a1, a2))"
      ]
    },
    {
      "cell_type": "markdown",
      "metadata": {
        "id": "9zraUHAqY-3R"
      },
      "source": [
        "**Try to stack them `horizontally` with `hstack`:**"
      ]
    },
    {
      "cell_type": "code",
      "execution_count": 77,
      "metadata": {
        "id": "tMd-ByYTY-3S",
        "outputId": "5fcd4d42-15db-4a32-dc1f-cea9c0d601a5",
        "colab": {
          "base_uri": "https://localhost:8080/"
        }
      },
      "outputs": [
        {
          "output_type": "execute_result",
          "data": {
            "text/plain": [
              "array([[1, 1, 3, 3],\n",
              "       [2, 2, 4, 4]])"
            ]
          },
          "metadata": {},
          "execution_count": 77
        }
      ],
      "source": [
        "# Code here\n",
        "np.hstack((a1, a2))"
      ]
    },
    {
      "cell_type": "markdown",
      "metadata": {
        "id": "FDbs1vjdY-3S"
      },
      "source": [
        "### Split\n",
        "\n",
        "You can split an array into `several smaller` arrays using `hsplit`. You can specify either the `number of equally shaped` arrays to return `or` the columns after which the `division should occur`.\n",
        "\n",
        "**Let’s say you have this array:**"
      ]
    },
    {
      "cell_type": "code",
      "execution_count": 57,
      "metadata": {
        "id": "Qn-3gIb4Y-3S",
        "outputId": "7bfc9468-c6ab-4f38-d9f4-06adcf792ec0",
        "colab": {
          "base_uri": "https://localhost:8080/"
        }
      },
      "outputs": [
        {
          "output_type": "execute_result",
          "data": {
            "text/plain": [
              "array([[ 1,  2,  3,  4,  5,  6,  7,  8,  9, 10, 11, 12],\n",
              "       [13, 14, 15, 16, 17, 18, 19, 20, 21, 22, 23, 24]])"
            ]
          },
          "metadata": {},
          "execution_count": 57
        }
      ],
      "source": [
        "x = np.arange(1, 25).reshape(2, 12)\n",
        "x"
      ]
    },
    {
      "cell_type": "markdown",
      "metadata": {
        "id": "FeTScTRdY-3T"
      },
      "source": [
        "If you wanted to `split` this array into `three equally shaped arrays`, you would run:"
      ]
    },
    {
      "cell_type": "code",
      "execution_count": 58,
      "metadata": {
        "id": "N5Jeo2h0Y-3T",
        "outputId": "2437c78b-17ce-4010-c76c-f7479949d6cc",
        "colab": {
          "base_uri": "https://localhost:8080/"
        }
      },
      "outputs": [
        {
          "output_type": "execute_result",
          "data": {
            "text/plain": [
              "[array([[ 1,  2,  3,  4],\n",
              "        [13, 14, 15, 16]]),\n",
              " array([[ 5,  6,  7,  8],\n",
              "        [17, 18, 19, 20]]),\n",
              " array([[ 9, 10, 11, 12],\n",
              "        [21, 22, 23, 24]])]"
            ]
          },
          "metadata": {},
          "execution_count": 58
        }
      ],
      "source": [
        "np.hsplit(x, 3)"
      ]
    },
    {
      "cell_type": "markdown",
      "metadata": {
        "id": "5638KWEtY-3U"
      },
      "source": [
        "If you wanted to split your array after the `third` and `fourth column`, you’d run:"
      ]
    },
    {
      "cell_type": "code",
      "execution_count": 59,
      "metadata": {
        "id": "b_LTjyRnY-3U",
        "outputId": "f9e29874-906b-4fb2-9a3a-8319241b12ea",
        "colab": {
          "base_uri": "https://localhost:8080/"
        }
      },
      "outputs": [
        {
          "output_type": "execute_result",
          "data": {
            "text/plain": [
              "[array([[ 1,  2,  3],\n",
              "        [13, 14, 15]]),\n",
              " array([[ 4],\n",
              "        [16]]),\n",
              " array([[ 5,  6,  7,  8,  9, 10, 11, 12],\n",
              "        [17, 18, 19, 20, 21, 22, 23, 24]])]"
            ]
          },
          "metadata": {},
          "execution_count": 59
        }
      ],
      "source": [
        "np.hsplit(x, (3, 4))"
      ]
    },
    {
      "cell_type": "markdown",
      "metadata": {
        "id": "k0BDBohJY-3V"
      },
      "source": [
        "**[Learn more about stacking and splitting arrays here.](https://numpy.org/doc/stable/user/quickstart.html#quickstart-stacking-arrays)**"
      ]
    },
    {
      "cell_type": "markdown",
      "metadata": {
        "id": "sV0DPw3GY-3V"
      },
      "source": [
        "### Shallow and Deep coping\n",
        "\n",
        "You can use the `view` method to create a new array object that looks at the same data as the original array (a `shallow copy`).\n",
        "\n",
        "`Views` are an important NumPy concept!\n",
        "\n",
        "- NumPy functions, as well as operations like `indexing` and `slicing`, will **`return views`** whenever possible.\n",
        "- This **saves memory** and is **faster** (no copy of the data has to be made).\n",
        "\n",
        "> However it’s important to be aware of this - **modifying data in a view also modifies the original array**!\n",
        "\n",
        "Let’s say you create this array:"
      ]
    },
    {
      "cell_type": "code",
      "execution_count": 60,
      "metadata": {
        "id": "9DQ05PipY-3V"
      },
      "outputs": [],
      "source": [
        "a = np.array([[1, 2, 3, 4], [5, 6, 7, 8], [9, 10, 11, 12]])"
      ]
    },
    {
      "cell_type": "markdown",
      "metadata": {
        "id": "XLXGOVruY-3W"
      },
      "source": [
        "**Now we create an array `b1` by slicing a and modify the `first element of b1`.**\n",
        ">**This will modify the corresponding element in `a` as well!**"
      ]
    },
    {
      "cell_type": "code",
      "execution_count": 61,
      "metadata": {
        "id": "3Z1CQhwnY-3W",
        "outputId": "0c61bc24-a76d-4d4b-8b7c-9bf937f8d949",
        "colab": {
          "base_uri": "https://localhost:8080/"
        }
      },
      "outputs": [
        {
          "output_type": "execute_result",
          "data": {
            "text/plain": [
              "array([1, 2, 3, 4])"
            ]
          },
          "metadata": {},
          "execution_count": 61
        }
      ],
      "source": [
        "# Slice from a (view concept applied - shallow coping)\n",
        "b1 = a[0, :]\n",
        "b1"
      ]
    },
    {
      "cell_type": "code",
      "execution_count": 62,
      "metadata": {
        "id": "-ANQ0ONHY-3W",
        "outputId": "55840ca8-adb2-449a-d5a7-787367341284",
        "colab": {
          "base_uri": "https://localhost:8080/"
        }
      },
      "outputs": [
        {
          "output_type": "execute_result",
          "data": {
            "text/plain": [
              "array([99,  2,  3,  4])"
            ]
          },
          "metadata": {},
          "execution_count": 62
        }
      ],
      "source": [
        "# modify 1st element of b\n",
        "b1[0] = 99\n",
        "b1"
      ]
    },
    {
      "cell_type": "code",
      "execution_count": 63,
      "metadata": {
        "id": "NfrMbDRnY-3X",
        "outputId": "1e5d8e35-37e9-41a6-b38f-31b5d0d201e8",
        "colab": {
          "base_uri": "https://localhost:8080/"
        }
      },
      "outputs": [
        {
          "output_type": "execute_result",
          "data": {
            "text/plain": [
              "array([[99,  2,  3,  4],\n",
              "       [ 5,  6,  7,  8],\n",
              "       [ 9, 10, 11, 12]])"
            ]
          },
          "metadata": {},
          "execution_count": 63
        }
      ],
      "source": [
        "# lets check what happened with a\n",
        "# its also modified\n",
        "a"
      ]
    },
    {
      "cell_type": "markdown",
      "metadata": {
        "id": "cQfcgBGWY-3X"
      },
      "source": [
        "Using the `copy` method will make a complete copy of the array and its data (a `deep copy`). To use this on your array, you could run:"
      ]
    },
    {
      "cell_type": "code",
      "execution_count": 64,
      "metadata": {
        "id": "azPO1QYFY-3Y",
        "outputId": "8cd498a1-2dc1-4c03-c60d-65d0f6208200",
        "colab": {
          "base_uri": "https://localhost:8080/"
        }
      },
      "outputs": [
        {
          "output_type": "execute_result",
          "data": {
            "text/plain": [
              "array([[ 1,  2,  3,  4],\n",
              "       [ 5,  6,  7,  8],\n",
              "       [ 9, 10, 11, 12]])"
            ]
          },
          "metadata": {},
          "execution_count": 64
        }
      ],
      "source": [
        "a = np.array([[1, 2, 3, 4], [5, 6, 7, 8], [9, 10, 11, 12]])\n",
        "a"
      ]
    },
    {
      "cell_type": "code",
      "execution_count": 65,
      "metadata": {
        "id": "QesqlBdpY-3Y",
        "outputId": "3f5299fe-7fa0-4094-f3da-9a272616cf13",
        "colab": {
          "base_uri": "https://localhost:8080/"
        }
      },
      "outputs": [
        {
          "output_type": "execute_result",
          "data": {
            "text/plain": [
              "array([[ 1,  2,  3,  4],\n",
              "       [ 5,  6,  7,  8],\n",
              "       [ 9, 10, 11, 12]])"
            ]
          },
          "metadata": {},
          "execution_count": 65
        }
      ],
      "source": [
        "# create a deep copy\n",
        "b2 = a.copy()\n",
        "b2"
      ]
    },
    {
      "cell_type": "code",
      "execution_count": 66,
      "metadata": {
        "id": "9ksuhHFVY-3Z",
        "outputId": "7d675503-8cdf-4861-91cd-c5abc0c27005",
        "colab": {
          "base_uri": "https://localhost:8080/"
        }
      },
      "outputs": [
        {
          "output_type": "execute_result",
          "data": {
            "text/plain": [
              "array([[ 1,  2,  3,  4],\n",
              "       [ 5,  6, 77,  8],\n",
              "       [ 9, 10, 11, 12]])"
            ]
          },
          "metadata": {},
          "execution_count": 66
        }
      ],
      "source": [
        "# access 1st element of 2d array and modify\n",
        "b2[1][2] = 77\n",
        "b2"
      ]
    },
    {
      "cell_type": "code",
      "execution_count": 67,
      "metadata": {
        "id": "4kHXybIFY-3Z",
        "outputId": "950ac068-358d-4ac9-ef76-9d72ef9344ed",
        "colab": {
          "base_uri": "https://localhost:8080/"
        }
      },
      "outputs": [
        {
          "output_type": "execute_result",
          "data": {
            "text/plain": [
              "array([[ 1,  2,  3,  4],\n",
              "       [ 5,  6,  7,  8],\n",
              "       [ 9, 10, 11, 12]])"
            ]
          },
          "metadata": {},
          "execution_count": 67
        }
      ],
      "source": [
        "# lets check a\n",
        "# nothing changed in it\n",
        "a"
      ]
    },
    {
      "cell_type": "markdown",
      "metadata": {
        "id": "A2ZwFPnrY-3a"
      },
      "source": [
        "**[Learn more about copies and views here.](https://numpy.org/doc/stable/user/quickstart.html#quickstart-copies-and-views)**"
      ]
    },
    {
      "cell_type": "markdown",
      "metadata": {
        "id": "POxPv4o6Y-3a"
      },
      "source": [
        "# Section 8: Basic array operations\n",
        "This section covers `addition`, `subtraction`, `multiplication`, `division`, and more\n",
        "\n",
        "Once you’ve created your arrays, you can start to work with them. Let’s say, for example, that you’ve created two arrays, one called “`data`” and one called “`ones`”\n",
        "\n",
        "![alt_text](S1-pics\\arrs1.png)\n",
        "\n",
        ">You can add the arrays together with the `plus sign`.\n",
        "\n",
        "\n",
        "**Try It**\n",
        "- Create two arrays as the following diagrma\n",
        "- Sum the two arrays\n",
        "\n",
        "![alt_text](S1-pics\\add.png)"
      ]
    },
    {
      "cell_type": "code",
      "execution_count": 68,
      "metadata": {
        "id": "EOhgeUPuY-3b",
        "colab": {
          "base_uri": "https://localhost:8080/"
        },
        "outputId": "12bc5db8-9163-498b-f802-bc72c2ac276c"
      },
      "outputs": [
        {
          "output_type": "execute_result",
          "data": {
            "text/plain": [
              "array([2, 3])"
            ]
          },
          "metadata": {},
          "execution_count": 68
        }
      ],
      "source": [
        "# Code here\n",
        "data = np.array([1, 2])\n",
        "ones = np.ones(2, dtype=int)\n",
        "\n",
        "sum_arrs = data + ones\n",
        "sum_arrs"
      ]
    },
    {
      "cell_type": "markdown",
      "metadata": {
        "id": "Ge8NHb_eY-3b"
      },
      "source": [
        "You can, of course, do more than just addition!\n",
        "![alt_text](S1-pics\\many.png)"
      ]
    },
    {
      "cell_type": "code",
      "execution_count": 69,
      "metadata": {
        "id": "hUTH5Yh4Y-3b",
        "outputId": "ce82f404-f2ea-4814-b659-fb1385dfb90d",
        "colab": {
          "base_uri": "https://localhost:8080/"
        }
      },
      "outputs": [
        {
          "output_type": "execute_result",
          "data": {
            "text/plain": [
              "array([0, 1])"
            ]
          },
          "metadata": {},
          "execution_count": 69
        }
      ],
      "source": [
        "# Subtraction\n",
        "data - ones"
      ]
    },
    {
      "cell_type": "code",
      "execution_count": 70,
      "metadata": {
        "id": "O6PwVmYNY-3c",
        "outputId": "8bab0820-bdb0-4c0b-f844-46928109e0a3",
        "colab": {
          "base_uri": "https://localhost:8080/"
        }
      },
      "outputs": [
        {
          "output_type": "execute_result",
          "data": {
            "text/plain": [
              "array([1, 4])"
            ]
          },
          "metadata": {},
          "execution_count": 70
        }
      ],
      "source": [
        "# Multiplication\n",
        "data * data"
      ]
    },
    {
      "cell_type": "code",
      "execution_count": 71,
      "metadata": {
        "id": "3IqZtHOoY-3c",
        "outputId": "58572ece-66c5-4ffa-e74a-427cf60ef244",
        "colab": {
          "base_uri": "https://localhost:8080/"
        }
      },
      "outputs": [
        {
          "output_type": "execute_result",
          "data": {
            "text/plain": [
              "array([1., 1.])"
            ]
          },
          "metadata": {},
          "execution_count": 71
        }
      ],
      "source": [
        "# Division\n",
        "data / data"
      ]
    },
    {
      "cell_type": "markdown",
      "metadata": {
        "id": "ZgPQp9CVY-3c"
      },
      "source": [
        "### Sum\n",
        "Basic operations are simple with NumPy.\n",
        "\n",
        "If you want to find the `sum of the elements` in an array, you’d use `sum()`.\n",
        "\n",
        ">This works for `1D arrays`, `2D arrays`, and arrays in `higher dimensions`."
      ]
    },
    {
      "cell_type": "code",
      "execution_count": 72,
      "metadata": {
        "id": "wKnDE1UHY-3d",
        "outputId": "9a9b20c2-2754-4609-a729-2f5f33aecf34",
        "colab": {
          "base_uri": "https://localhost:8080/"
        }
      },
      "outputs": [
        {
          "output_type": "execute_result",
          "data": {
            "text/plain": [
              "10"
            ]
          },
          "metadata": {},
          "execution_count": 72
        }
      ],
      "source": [
        "a = np.array([1, 2, 3, 4])\n",
        "a.sum()"
      ]
    },
    {
      "cell_type": "markdown",
      "metadata": {
        "id": "tC9uvHlfY-3d"
      },
      "source": [
        "To add the `rows` or the `columns` in a `2D array`, you would specify the `axis`.\n",
        "\n",
        "If you start with this array:"
      ]
    },
    {
      "cell_type": "code",
      "execution_count": 73,
      "metadata": {
        "id": "XPWV8IifY-3d",
        "outputId": "4973901a-5110-4c5f-8952-b80470b9c995",
        "colab": {
          "base_uri": "https://localhost:8080/"
        }
      },
      "outputs": [
        {
          "output_type": "execute_result",
          "data": {
            "text/plain": [
              "array([[1, 1],\n",
              "       [2, 2]])"
            ]
          },
          "metadata": {},
          "execution_count": 73
        }
      ],
      "source": [
        "b = np.array([[1, 1], [2, 2]])\n",
        "b"
      ]
    },
    {
      "cell_type": "code",
      "execution_count": 74,
      "metadata": {
        "id": "S9KoRbCLY-3e",
        "outputId": "8ff47d66-e678-430a-9248-86b0af31e5fb",
        "colab": {
          "base_uri": "https://localhost:8080/"
        }
      },
      "outputs": [
        {
          "output_type": "execute_result",
          "data": {
            "text/plain": [
              "array([3, 3])"
            ]
          },
          "metadata": {},
          "execution_count": 74
        }
      ],
      "source": [
        "# You can sum the rows with:\n",
        "b.sum(axis=0)"
      ]
    },
    {
      "cell_type": "code",
      "execution_count": 75,
      "metadata": {
        "scrolled": true,
        "id": "24xd0aPiY-3e",
        "outputId": "230f7798-4ee9-42a4-8d4b-008de73b21fd",
        "colab": {
          "base_uri": "https://localhost:8080/"
        }
      },
      "outputs": [
        {
          "output_type": "execute_result",
          "data": {
            "text/plain": [
              "array([2, 4])"
            ]
          },
          "metadata": {},
          "execution_count": 75
        }
      ],
      "source": [
        "# You can sum the columns with:\n",
        "b.sum(axis=1)"
      ]
    },
    {
      "cell_type": "markdown",
      "metadata": {
        "id": "-4A-XTZ7Y-3e"
      },
      "source": [
        "**[Learn more about basic operations here.](https://numpy.org/doc/stable/user/quickstart.html#quickstart-basic-operations)**"
      ]
    },
    {
      "cell_type": "markdown",
      "metadata": {
        "id": "7X8e6NLuZGG7"
      },
      "source": [
        "# Thank you for your time and efforts!\n",
        "### *By:Heba-T-ALLAH Raslan*"
      ]
    }
  ],
  "metadata": {
    "kernelspec": {
      "display_name": "Python 3",
      "language": "python",
      "name": "python3"
    },
    "language_info": {
      "codemirror_mode": {
        "name": "ipython",
        "version": 3
      },
      "file_extension": ".py",
      "mimetype": "text/x-python",
      "name": "python",
      "nbconvert_exporter": "python",
      "pygments_lexer": "ipython3",
      "version": "3.7.6"
    },
    "colab": {
      "provenance": []
    }
  },
  "nbformat": 4,
  "nbformat_minor": 0
}