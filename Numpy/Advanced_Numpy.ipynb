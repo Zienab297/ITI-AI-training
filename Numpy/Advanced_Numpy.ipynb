{
  "cells": [
    {
      "cell_type": "markdown",
      "metadata": {
        "id": "5DEAM2Z8ZGFW"
      },
      "source": [
        "# Advanced NumPy\n",
        "\n",
        "Welcome to the advanced notebook in NumPy! If you have comments or suggestions, please don’t hesitate to share it in the end of the session!\n",
        "\n",
        "![alt_text](S1-pics\\NumPy_logo.png)"
      ]
    },
    {
      "cell_type": "code",
      "execution_count": 1,
      "metadata": {
        "id": "Rp-cpGsZZGFc"
      },
      "outputs": [],
      "source": [
        "import numpy as np"
      ]
    },
    {
      "cell_type": "markdown",
      "metadata": {
        "id": "dQTqIyd5ZGFf"
      },
      "source": [
        "-----"
      ]
    },
    {
      "cell_type": "markdown",
      "metadata": {
        "id": "upxXrE7dZGFf"
      },
      "source": [
        "# Section 1: Broadcasting\n",
        "Broadcasting is simply a set of rules for applying binary ufuncs (e.g., addition, subtraction, multiplication, etc.) on arrays of different sizes.\n",
        "\n",
        "## Rules of Broadcasting\n",
        "\n",
        "Broadcasting in NumPy follows a strict set of rules to determine the interaction between the two arrays:\n",
        "\n",
        "- Rule 1: If the two arrays differ in their number of dimensions, the shape of the one with fewer dimensions is *padded* with ones on its leading (left) side.\n",
        "- Rule 2: If the shape of the two arrays does not match in any dimension, the array with shape equal to 1 in that dimension is stretched to match the other shape.\n",
        "- Rule 3: If in any dimension the sizes disagree and neither is equal to 1, an error is raised.\n",
        "\n",
        "---\n",
        "\n",
        "### Broadcasting example 1\n",
        "\n",
        "Let's look at adding a two-dimensional array to a one-dimensional array:"
      ]
    },
    {
      "cell_type": "code",
      "execution_count": 2,
      "metadata": {
        "id": "IVpfaruoZGFh",
        "outputId": "57a1cc9f-e967-4734-ebed-d98d617650c8",
        "colab": {
          "base_uri": "https://localhost:8080/"
        }
      },
      "outputs": [
        {
          "output_type": "execute_result",
          "data": {
            "text/plain": [
              "array([[1., 1., 1.],\n",
              "       [1., 1., 1.]])"
            ]
          },
          "metadata": {},
          "execution_count": 2
        }
      ],
      "source": [
        "M = np.ones((2, 3))\n",
        "M"
      ]
    },
    {
      "cell_type": "code",
      "execution_count": 3,
      "metadata": {
        "id": "IstpFOrKZGFk",
        "outputId": "978346c6-63e7-422a-b1a4-ae0665dc15c1",
        "colab": {
          "base_uri": "https://localhost:8080/"
        }
      },
      "outputs": [
        {
          "output_type": "execute_result",
          "data": {
            "text/plain": [
              "array([0, 1, 2])"
            ]
          },
          "metadata": {},
          "execution_count": 3
        }
      ],
      "source": [
        "a = np.arange(3)\n",
        "a"
      ]
    },
    {
      "cell_type": "markdown",
      "metadata": {
        "id": "GzPYUNkzZGFl"
      },
      "source": [
        "Let's consider an operation on these two arrays. The shape of the arrays are\n",
        "\n",
        "- ``M.shape = (2, 3)``\n",
        "- ``a.shape = (3,)``\n",
        "\n",
        "We see by rule 1 that the array ``a`` has fewer dimensions, so we pad it on the left with ones:\n",
        "\n",
        "- ``M.shape -> (2, 3)``\n",
        "- ``a.shape -> (1, 3)``\n",
        "\n",
        "By rule 2, we now see that the first dimension disagrees, so we stretch this dimension to match:\n",
        "\n",
        "- ``M.shape -> (2, 3)``\n",
        "- ``a.shape -> (2, 3)``\n",
        "\n",
        "The shapes match, and we see that the final shape will be ``(2, 3)``:"
      ]
    },
    {
      "cell_type": "code",
      "execution_count": 4,
      "metadata": {
        "id": "i0rE2DdAZGFl",
        "outputId": "e560348e-2b7a-4dc4-c11e-53449c92d081",
        "colab": {
          "base_uri": "https://localhost:8080/"
        }
      },
      "outputs": [
        {
          "output_type": "execute_result",
          "data": {
            "text/plain": [
              "array([[1., 2., 3.],\n",
              "       [1., 2., 3.]])"
            ]
          },
          "metadata": {},
          "execution_count": 4
        }
      ],
      "source": [
        "M + a"
      ]
    },
    {
      "cell_type": "markdown",
      "metadata": {
        "id": "C3mTd5NJZGFn"
      },
      "source": [
        "### Broadcasting example 2\n",
        "\n",
        "Let's take a look at an example where both arrays need to be broadcast:"
      ]
    },
    {
      "cell_type": "code",
      "execution_count": 5,
      "metadata": {
        "id": "yq-81fHfZGFn",
        "outputId": "d56190af-9fcf-4a4f-8f33-fac131b26e94",
        "colab": {
          "base_uri": "https://localhost:8080/"
        }
      },
      "outputs": [
        {
          "output_type": "execute_result",
          "data": {
            "text/plain": [
              "array([[0],\n",
              "       [1],\n",
              "       [2]])"
            ]
          },
          "metadata": {},
          "execution_count": 5
        }
      ],
      "source": [
        "a = np.arange(3).reshape((3, 1))\n",
        "a"
      ]
    },
    {
      "cell_type": "code",
      "execution_count": 6,
      "metadata": {
        "id": "0QLfJi2dZGFo",
        "outputId": "89b3a66d-7fca-4ec4-c312-fadc64841cce",
        "colab": {
          "base_uri": "https://localhost:8080/"
        }
      },
      "outputs": [
        {
          "output_type": "execute_result",
          "data": {
            "text/plain": [
              "array([0, 1, 2])"
            ]
          },
          "metadata": {},
          "execution_count": 6
        }
      ],
      "source": [
        "b = np.arange(3)\n",
        "b"
      ]
    },
    {
      "cell_type": "markdown",
      "metadata": {
        "id": "AGEfoBMEZGFo"
      },
      "source": [
        "Again, we'll start by writing out the shape of the arrays:\n",
        "\n",
        "- ``a.shape = (3, 1)``\n",
        "- ``b.shape = (3,)``\n",
        "\n",
        "Rule 1 says we must pad the shape of ``b`` with ones:\n",
        "\n",
        "- ``a.shape -> (3, 1)``\n",
        "- ``b.shape -> (1, 3)``\n",
        "\n",
        "And rule 2 tells us that we upgrade each of these ones to match the corresponding size of the other array:\n",
        "\n",
        "- ``a.shape -> (3, 3)``\n",
        "- ``b.shape -> (3, 3)``\n",
        "\n",
        "Because the result matches, these shapes are compatible. We can see this here:"
      ]
    },
    {
      "cell_type": "code",
      "execution_count": 7,
      "metadata": {
        "id": "dWaCuANkZGFp",
        "outputId": "3da00536-eead-4b7f-d8d5-d249980496a9",
        "colab": {
          "base_uri": "https://localhost:8080/"
        }
      },
      "outputs": [
        {
          "output_type": "execute_result",
          "data": {
            "text/plain": [
              "array([[0, 1, 2],\n",
              "       [1, 2, 3],\n",
              "       [2, 3, 4]])"
            ]
          },
          "metadata": {},
          "execution_count": 7
        }
      ],
      "source": [
        "a + b"
      ]
    },
    {
      "cell_type": "markdown",
      "metadata": {
        "id": "yq_NiVpjZGFp"
      },
      "source": [
        "### Broadcasting example 3\n",
        "\n",
        "Now let's take a look at an example in which the two arrays are not compatible:"
      ]
    },
    {
      "cell_type": "code",
      "execution_count": 8,
      "metadata": {
        "id": "xWFKBU3_ZGFp",
        "colab": {
          "base_uri": "https://localhost:8080/"
        },
        "outputId": "634a70e0-e8d6-4f97-cdf8-ade81f49ccb3"
      },
      "outputs": [
        {
          "output_type": "execute_result",
          "data": {
            "text/plain": [
              "array([[1., 1.],\n",
              "       [1., 1.],\n",
              "       [1., 1.]])"
            ]
          },
          "metadata": {},
          "execution_count": 8
        }
      ],
      "source": [
        "M = np.ones((3, 2))\n",
        "M\n"
      ]
    },
    {
      "cell_type": "code",
      "execution_count": 9,
      "metadata": {
        "id": "dOHRE-yRZGFq",
        "outputId": "669ff12f-73f9-48b4-9036-d055e3fa3287",
        "colab": {
          "base_uri": "https://localhost:8080/"
        }
      },
      "outputs": [
        {
          "output_type": "execute_result",
          "data": {
            "text/plain": [
              "array([0, 1, 2])"
            ]
          },
          "metadata": {},
          "execution_count": 9
        }
      ],
      "source": [
        "a = np.arange(3)\n",
        "a"
      ]
    },
    {
      "cell_type": "markdown",
      "metadata": {
        "id": "NdAfCrNNZGFq"
      },
      "source": [
        "This is just a slightly different situation than in the first example: the matrix ``M`` is transposed.\n",
        "How does this affect the calculation? The shape of the arrays are\n",
        "\n",
        "- ``M.shape = (3, 2)``\n",
        "- ``a.shape = (3,)``\n",
        "\n",
        "Again, rule 1 tells us that we must pad the shape of ``a`` with ones:\n",
        "\n",
        "- ``M.shape -> (3, 2)``\n",
        "- ``a.shape -> (1, 3)``\n",
        "\n",
        "By rule 2, the first dimension of ``a`` is stretched to match that of ``M``:\n",
        "\n",
        "- ``M.shape -> (3, 2)``\n",
        "- ``a.shape -> (3, 3)``\n",
        "\n",
        "Now we hit rule 3–the final shapes do not match, so these two arrays are incompatible, as we can observe by attempting this operation:"
      ]
    },
    {
      "cell_type": "code",
      "execution_count": 96,
      "metadata": {
        "id": "nYi_oUfaZGFr",
        "outputId": "163befde-af71-4df1-cae6-73841327bae8",
        "colab": {
          "base_uri": "https://localhost:8080/",
          "height": 141
        }
      },
      "outputs": [
        {
          "output_type": "error",
          "ename": "ValueError",
          "evalue": "operands could not be broadcast together with shapes (6,) (3,2) ",
          "traceback": [
            "\u001b[0;31m---------------------------------------------------------------------------\u001b[0m",
            "\u001b[0;31mValueError\u001b[0m                                Traceback (most recent call last)",
            "\u001b[0;32m<ipython-input-96-60afc280ce5f>\u001b[0m in \u001b[0;36m<cell line: 1>\u001b[0;34m()\u001b[0m\n\u001b[0;32m----> 1\u001b[0;31m \u001b[0ma\u001b[0m\u001b[0;34m+\u001b[0m\u001b[0mM\u001b[0m\u001b[0;34m\u001b[0m\u001b[0;34m\u001b[0m\u001b[0m\n\u001b[0m",
            "\u001b[0;31mValueError\u001b[0m: operands could not be broadcast together with shapes (6,) (3,2) "
          ]
        }
      ],
      "source": [
        "M + a #produces error because the shape is different worked on the cell later because of padding"
      ]
    },
    {
      "cell_type": "markdown",
      "metadata": {
        "id": "cusS1zp6ZGFs"
      },
      "source": [
        "Note the potential confusion here:\n",
        "you could imagine making ``a`` and ``M`` compatible by, say, padding ``a``'s shape with ones on the right rather than the left.\n",
        "But this is not how the broadcasting rules work!\n",
        "That sort of flexibility might be useful in some cases, but it would lead to potential areas of ambiguity.\n",
        "\n",
        "If right-side padding is what you'd like, you can do this explicitly by reshaping the array (we'll use the ``np.newaxis`` ):"
      ]
    },
    {
      "cell_type": "code",
      "execution_count": 11,
      "metadata": {
        "id": "xn68-uFiZGFs",
        "outputId": "8843f13d-dce7-4246-cc80-4c6da67f6e11",
        "colab": {
          "base_uri": "https://localhost:8080/"
        }
      },
      "outputs": [
        {
          "output_type": "execute_result",
          "data": {
            "text/plain": [
              "(3, 1)"
            ]
          },
          "metadata": {},
          "execution_count": 11
        }
      ],
      "source": [
        "a[:, np.newaxis].shape"
      ]
    },
    {
      "cell_type": "code",
      "execution_count": 12,
      "metadata": {
        "id": "VlbaIYYjZGFt",
        "outputId": "66a58171-38fe-4632-b984-b09bb146a12c",
        "colab": {
          "base_uri": "https://localhost:8080/"
        }
      },
      "outputs": [
        {
          "output_type": "execute_result",
          "data": {
            "text/plain": [
              "array([[1., 1.],\n",
              "       [2., 2.],\n",
              "       [3., 3.]])"
            ]
          },
          "metadata": {},
          "execution_count": 12
        }
      ],
      "source": [
        "M + a[:, np.newaxis]"
      ]
    },
    {
      "cell_type": "markdown",
      "metadata": {
        "id": "aaL4gEldZGFt"
      },
      "source": [
        "Also note that while we've been focusing on the ``+`` operator here, these broadcasting rules apply to *any* binary ``ufunc``.\n",
        "For example, here is the ``logaddexp(a, b)`` function, which computes ``log(exp(a) + exp(b))`` with more precision than the naive approach:"
      ]
    },
    {
      "cell_type": "code",
      "execution_count": 13,
      "metadata": {
        "id": "gZUHJhNXZGFu",
        "outputId": "e93653c4-9fa8-4f57-a44a-ef016e745971",
        "colab": {
          "base_uri": "https://localhost:8080/"
        }
      },
      "outputs": [
        {
          "output_type": "execute_result",
          "data": {
            "text/plain": [
              "array([[1.31326169, 1.31326169],\n",
              "       [1.69314718, 1.69314718],\n",
              "       [2.31326169, 2.31326169]])"
            ]
          },
          "metadata": {},
          "execution_count": 13
        }
      ],
      "source": [
        "np.logaddexp(M, a[:, np.newaxis])"
      ]
    },
    {
      "cell_type": "markdown",
      "metadata": {
        "id": "NA2w84ipZGFv"
      },
      "source": [
        "---\n",
        "## Broadcasting in Practice\n",
        "### Centering an array\n",
        "\n",
        "One commonly seen example is when centering an array of data.\n",
        "\n",
        "Imagine you have an array of `10 observations`, each of which consists of `3 values`."
      ]
    },
    {
      "cell_type": "code",
      "execution_count": 14,
      "metadata": {
        "id": "1C3ua2avZGFw",
        "outputId": "3875e01c-5bbb-4ae3-b35c-1ce4ba0eb560",
        "colab": {
          "base_uri": "https://localhost:8080/"
        }
      },
      "outputs": [
        {
          "output_type": "execute_result",
          "data": {
            "text/plain": [
              "array([[0.31976977, 0.2029048 , 0.18457905],\n",
              "       [0.64493063, 0.89547309, 0.79192667],\n",
              "       [0.35146673, 0.19142783, 0.30807974],\n",
              "       [0.08512121, 0.60307978, 0.98551198],\n",
              "       [0.94659205, 0.37206565, 0.67822162],\n",
              "       [0.6689348 , 0.4931572 , 0.07312874],\n",
              "       [0.2861326 , 0.31222881, 0.02903091],\n",
              "       [0.9533051 , 0.04506986, 0.92254833],\n",
              "       [0.06965657, 0.00913435, 0.31593816],\n",
              "       [0.6367643 , 0.12149653, 0.3523187 ]])"
            ]
          },
          "metadata": {},
          "execution_count": 14
        }
      ],
      "source": [
        "X = np.random.random((10, 3))\n",
        "X"
      ]
    },
    {
      "cell_type": "markdown",
      "metadata": {
        "id": "yzZ2lkvoZGFx"
      },
      "source": [
        "We can compute the mean of each feature using the ``mean`` aggregate across the first dimension:"
      ]
    },
    {
      "cell_type": "code",
      "execution_count": 15,
      "metadata": {
        "id": "PDGS_lbyZGFx",
        "outputId": "8ba91e13-4bfa-4c85-c3c7-ad15fc5ce6df",
        "colab": {
          "base_uri": "https://localhost:8080/"
        }
      },
      "outputs": [
        {
          "output_type": "execute_result",
          "data": {
            "text/plain": [
              "array([0.49626738, 0.32460379, 0.46412839])"
            ]
          },
          "metadata": {},
          "execution_count": 15
        }
      ],
      "source": [
        "Xmean = X.mean(0)\n",
        "Xmean"
      ]
    },
    {
      "cell_type": "markdown",
      "metadata": {
        "id": "64GuvSTrZGFy"
      },
      "source": [
        "And now we can center the ``X`` array by subtracting the mean (this is a broadcasting operation):"
      ]
    },
    {
      "cell_type": "code",
      "execution_count": 16,
      "metadata": {
        "id": "_K5VGByPZGFz",
        "outputId": "180a1a8a-b73c-4828-b392-388f0c0f9332",
        "colab": {
          "base_uri": "https://localhost:8080/"
        }
      },
      "outputs": [
        {
          "output_type": "execute_result",
          "data": {
            "text/plain": [
              "array([[-0.17649761, -0.12169899, -0.27954934],\n",
              "       [ 0.14866326,  0.5708693 ,  0.32779828],\n",
              "       [-0.14480064, -0.13317596, -0.15604865],\n",
              "       [-0.41114617,  0.27847599,  0.52138359],\n",
              "       [ 0.45032467,  0.04746186,  0.21409323],\n",
              "       [ 0.17266742,  0.16855341, -0.39099965],\n",
              "       [-0.21013477, -0.01237498, -0.43509748],\n",
              "       [ 0.45703772, -0.27953393,  0.45841994],\n",
              "       [-0.4266108 , -0.31546944, -0.14819023],\n",
              "       [ 0.14049693, -0.20310726, -0.11180969]])"
            ]
          },
          "metadata": {},
          "execution_count": 16
        }
      ],
      "source": [
        "X_centered = X - Xmean\n",
        "X_centered"
      ]
    },
    {
      "cell_type": "markdown",
      "metadata": {
        "id": "P39hiM5sZGFz"
      },
      "source": [
        "To double-check that we've done this correctly, we can check that the centered array has near zero mean:"
      ]
    },
    {
      "cell_type": "code",
      "execution_count": 17,
      "metadata": {
        "id": "tHocCQExZGF0",
        "outputId": "b9f74494-8e43-48e8-caac-8296949de0ae",
        "colab": {
          "base_uri": "https://localhost:8080/"
        }
      },
      "outputs": [
        {
          "output_type": "execute_result",
          "data": {
            "text/plain": [
              "array([-2.22044605e-17, -2.22044605e-17,  1.16573418e-16])"
            ]
          },
          "metadata": {},
          "execution_count": 17
        }
      ],
      "source": [
        "X_centered.mean(0)"
      ]
    },
    {
      "cell_type": "markdown",
      "metadata": {
        "id": "Pr3BNMxjZGF0"
      },
      "source": [
        "----"
      ]
    },
    {
      "cell_type": "markdown",
      "metadata": {
        "id": "j7GeQ0_jZGF1"
      },
      "source": [
        "# Section 2: More useful array operations\n",
        "This section covers `maximum`, `minimum`, `sum`, `mean`, `product`, `standard deviation` and more\n",
        "\n",
        "NumPy also performs aggregation functions. In addition to `min`, `max`, and `sum`,\n",
        "- you can easily run `mean` to get the average,\n",
        "-`prod` to get the result of multiplying the elements together,\n",
        "-`std` to get the standard deviation, and more.\n",
        "\n",
        "Once you’ve created your arrays, you can start to work with them."
      ]
    },
    {
      "cell_type": "code",
      "execution_count": 18,
      "metadata": {
        "id": "6lHU0WYiZGF1",
        "outputId": "8ab43377-5701-4c56-cd34-76e8f3472231",
        "colab": {
          "base_uri": "https://localhost:8080/"
        }
      },
      "outputs": [
        {
          "output_type": "execute_result",
          "data": {
            "text/plain": [
              "array([1., 2., 3.])"
            ]
          },
          "metadata": {},
          "execution_count": 18
        }
      ],
      "source": [
        "data = np.array([1.0, 2.0, 3.0])\n",
        "data"
      ]
    },
    {
      "cell_type": "code",
      "execution_count": 19,
      "metadata": {
        "id": "zJ1fAvjLZGF2",
        "outputId": "dd43eb11-77f8-4d48-f96f-a4d91d412539",
        "colab": {
          "base_uri": "https://localhost:8080/"
        }
      },
      "outputs": [
        {
          "output_type": "execute_result",
          "data": {
            "text/plain": [
              "3.0"
            ]
          },
          "metadata": {},
          "execution_count": 19
        }
      ],
      "source": [
        "data.max()"
      ]
    },
    {
      "cell_type": "code",
      "execution_count": 20,
      "metadata": {
        "id": "agVjq5LIZGF2",
        "outputId": "44b443e7-dfcb-4f0b-da39-e11012ac6abd",
        "colab": {
          "base_uri": "https://localhost:8080/"
        }
      },
      "outputs": [
        {
          "output_type": "execute_result",
          "data": {
            "text/plain": [
              "1.0"
            ]
          },
          "metadata": {},
          "execution_count": 20
        }
      ],
      "source": [
        "data.min()"
      ]
    },
    {
      "cell_type": "code",
      "execution_count": 21,
      "metadata": {
        "id": "Wn0UZHyUZGF3",
        "outputId": "ece618b5-8169-4013-e690-94ec6c2c3991",
        "colab": {
          "base_uri": "https://localhost:8080/"
        }
      },
      "outputs": [
        {
          "output_type": "execute_result",
          "data": {
            "text/plain": [
              "6.0"
            ]
          },
          "metadata": {},
          "execution_count": 21
        }
      ],
      "source": [
        "data.sum()"
      ]
    },
    {
      "cell_type": "markdown",
      "metadata": {
        "id": "N77nrk-GZGF3"
      },
      "source": [
        "![alt_text](S1-pics\\data.png)"
      ]
    },
    {
      "cell_type": "markdown",
      "metadata": {
        "id": "djjcLab1ZGF3"
      },
      "source": [
        "Let’s start with this array, called `a`\n",
        "\n",
        "It’s very common to want to aggregate along a row or column. By default, every NumPy aggregation function will return the aggregate of the entire array.\n",
        "\n",
        "**Try It**\n",
        "- To find the sum or the minimum of the elements in your array\n",
        "\n"
      ]
    },
    {
      "cell_type": "code",
      "execution_count": 22,
      "metadata": {
        "id": "AYMlYr76ZGGC"
      },
      "outputs": [],
      "source": [
        "a = np.array([[0.45053314, 0.17296777, 0.34376245, 0.5510652],\n",
        "               [0.54627315, 0.05093587, 0.40067661, 0.55645993],\n",
        "               [0.12697628, 0.82485143, 0.26590556, 0.56917101]])"
      ]
    },
    {
      "cell_type": "code",
      "execution_count": 23,
      "metadata": {
        "id": "yRQqPghrZGGC",
        "outputId": "ccfb6315-080a-48f9-f4bf-990df4f338a4",
        "colab": {
          "base_uri": "https://localhost:8080/"
        }
      },
      "outputs": [
        {
          "output_type": "execute_result",
          "data": {
            "text/plain": [
              "4.8595784"
            ]
          },
          "metadata": {},
          "execution_count": 23
        }
      ],
      "source": [
        "# Code here\n",
        "a.sum()"
      ]
    },
    {
      "cell_type": "code",
      "execution_count": 24,
      "metadata": {
        "id": "Lgb3OKpwZGGD",
        "outputId": "64b55367-d4da-4aee-fc5b-89ba6a9bca8c",
        "colab": {
          "base_uri": "https://localhost:8080/"
        }
      },
      "outputs": [
        {
          "output_type": "execute_result",
          "data": {
            "text/plain": [
              "0.05093587"
            ]
          },
          "metadata": {},
          "execution_count": 24
        }
      ],
      "source": [
        "# Code here\n",
        "a.min()"
      ]
    },
    {
      "cell_type": "markdown",
      "metadata": {
        "id": "Iw3s5y5MZGGD"
      },
      "source": [
        "You can specify on which axis you want the aggregation function to be computed.\n",
        "\n",
        "**Try To**\n",
        "- find the minimum value within each column by specifying `axis=0`."
      ]
    },
    {
      "cell_type": "code",
      "execution_count": 25,
      "metadata": {
        "id": "B6mi6y7fZGGD",
        "outputId": "86f380d3-aade-411b-e9b4-b58abc80773d",
        "colab": {
          "base_uri": "https://localhost:8080/"
        }
      },
      "outputs": [
        {
          "output_type": "execute_result",
          "data": {
            "text/plain": [
              "array([0.12697628, 0.05093587, 0.26590556, 0.5510652 ])"
            ]
          },
          "metadata": {},
          "execution_count": 25
        }
      ],
      "source": [
        "# Code here\n",
        "a.min(axis=0)"
      ]
    },
    {
      "cell_type": "markdown",
      "metadata": {
        "id": "7vIqIM9yZGGE"
      },
      "source": [
        "The four values listed above correspond to the number of columns in your array. With a four-column array, you will get four values as your result.\n",
        "\n",
        "**Read more about [array methods here](https://numpy.org/doc/stable/reference/arrays.ndarray.html#array-ndarray-methods).**"
      ]
    },
    {
      "cell_type": "markdown",
      "metadata": {
        "id": "uyN58YOcZGGE"
      },
      "source": [
        "---\n",
        "# Section 3: Creating matrices\n",
        "You can pass Python lists of lists to create a `2-D array` (or `matrix`) to represent them in NumPy.\n"
      ]
    },
    {
      "cell_type": "code",
      "execution_count": 26,
      "metadata": {
        "id": "4dqB9Q5eZGGE",
        "outputId": "2156112e-37d0-44b4-dc9d-18f518b5e5ee",
        "colab": {
          "base_uri": "https://localhost:8080/"
        }
      },
      "outputs": [
        {
          "output_type": "execute_result",
          "data": {
            "text/plain": [
              "array([[1, 2],\n",
              "       [3, 4],\n",
              "       [5, 6]])"
            ]
          },
          "metadata": {},
          "execution_count": 26
        }
      ],
      "source": [
        "data = np.array([[1, 2], [3, 4],[5,6]])\n",
        "data"
      ]
    },
    {
      "cell_type": "markdown",
      "metadata": {
        "id": "6nkXl_2TZGGF"
      },
      "source": [
        "![alt_text](S1-pics\\arr.png)\n",
        "\n",
        "Indexing and slicing operations are useful when you’re manipulating matrices:\n",
        "\n",
        "**Try It**\n",
        "- Select 1st element in 2nd column\n",
        "- Select all elements starting from 2nd row till the end\n",
        "- Select 1st and secomnd elemnts in the 1st row\n",
        "\n",
        "![alt_text](S1-pics\\ind.png)"
      ]
    },
    {
      "cell_type": "code",
      "execution_count": 28,
      "metadata": {
        "id": "Nht6AiLAZGGF",
        "outputId": "c4da0379-e2cd-432b-ec59-eeeac044584f",
        "colab": {
          "base_uri": "https://localhost:8080/"
        }
      },
      "outputs": [
        {
          "output_type": "execute_result",
          "data": {
            "text/plain": [
              "2"
            ]
          },
          "metadata": {},
          "execution_count": 28
        }
      ],
      "source": [
        "# Select 1st element in 2nd column\n",
        "data[0, 1]"
      ]
    },
    {
      "cell_type": "code",
      "execution_count": 29,
      "metadata": {
        "id": "PHIcwMJlZGGF",
        "outputId": "62dc9063-63f5-4cce-fe4c-7ce970175adf",
        "colab": {
          "base_uri": "https://localhost:8080/"
        }
      },
      "outputs": [
        {
          "output_type": "execute_result",
          "data": {
            "text/plain": [
              "array([[3, 4],\n",
              "       [5, 6]])"
            ]
          },
          "metadata": {},
          "execution_count": 29
        }
      ],
      "source": [
        "# Select all elements starting from 2nd row till the end\n",
        "data[1:, ]"
      ]
    },
    {
      "cell_type": "code",
      "execution_count": 30,
      "metadata": {
        "id": "yxO4nP5QZGGG",
        "outputId": "90a75045-c14b-4539-c1d7-dee5f1d02031",
        "colab": {
          "base_uri": "https://localhost:8080/"
        }
      },
      "outputs": [
        {
          "output_type": "execute_result",
          "data": {
            "text/plain": [
              "array([1, 2])"
            ]
          },
          "metadata": {},
          "execution_count": 30
        }
      ],
      "source": [
        "# Select 1st and secomnd elemnts in the 1st row\n",
        "data[0, ]"
      ]
    },
    {
      "cell_type": "markdown",
      "metadata": {
        "id": "gzoebonCZGGH"
      },
      "source": [
        "You can aggregate matrices the same way you aggregated vectors:\n",
        "\n",
        "**Try to**\n",
        "- Get `max`, `min`, and `sum`\n",
        "![alt_text](S1-pics\\agg.png)"
      ]
    },
    {
      "cell_type": "code",
      "execution_count": 31,
      "metadata": {
        "id": "lPYcSGnqZGGH",
        "outputId": "a8063978-0866-44c9-8c47-73256eb13a5f",
        "colab": {
          "base_uri": "https://localhost:8080/"
        }
      },
      "outputs": [
        {
          "output_type": "execute_result",
          "data": {
            "text/plain": [
              "6"
            ]
          },
          "metadata": {},
          "execution_count": 31
        }
      ],
      "source": [
        "# max\n",
        "data.max()"
      ]
    },
    {
      "cell_type": "code",
      "execution_count": 32,
      "metadata": {
        "id": "M1ORvtOXZGGI",
        "outputId": "682d18ca-e7b2-41b8-e7e3-887b962ddbf9",
        "colab": {
          "base_uri": "https://localhost:8080/"
        }
      },
      "outputs": [
        {
          "output_type": "execute_result",
          "data": {
            "text/plain": [
              "1"
            ]
          },
          "metadata": {},
          "execution_count": 32
        }
      ],
      "source": [
        "# min\n",
        "data.min()"
      ]
    },
    {
      "cell_type": "code",
      "execution_count": 33,
      "metadata": {
        "id": "IbUckw2tZGGI",
        "outputId": "4bf25386-b3a3-4585-c0a3-070b33a7bc61",
        "colab": {
          "base_uri": "https://localhost:8080/"
        }
      },
      "outputs": [
        {
          "output_type": "execute_result",
          "data": {
            "text/plain": [
              "21"
            ]
          },
          "metadata": {},
          "execution_count": 33
        }
      ],
      "source": [
        "# sum\n",
        "data.sum()"
      ]
    },
    {
      "cell_type": "markdown",
      "metadata": {
        "id": "G0HxgoYMZGGJ"
      },
      "source": [
        "You can aggregate all the values in a matrix and you can aggregate them across columns or rows using the `axis` parameter:\n",
        "    \n",
        "**Try to**\n",
        "- get `max` across both axes\n",
        "\n",
        "![alt_text](S1-pics\\axi-max.png)"
      ]
    },
    {
      "cell_type": "code",
      "execution_count": 34,
      "metadata": {
        "id": "pGhr4yWrZGGJ",
        "outputId": "4ca78fa3-f932-4c40-9fed-a5046bd83b5c",
        "colab": {
          "base_uri": "https://localhost:8080/"
        }
      },
      "outputs": [
        {
          "output_type": "execute_result",
          "data": {
            "text/plain": [
              "array([5, 6])"
            ]
          },
          "metadata": {},
          "execution_count": 34
        }
      ],
      "source": [
        "# max across rows\n",
        "data.max(axis=0)"
      ]
    },
    {
      "cell_type": "code",
      "execution_count": 35,
      "metadata": {
        "id": "GNFP9s0jZGGK",
        "outputId": "ffde488b-56b5-4135-e93f-04f15311227e",
        "colab": {
          "base_uri": "https://localhost:8080/"
        }
      },
      "outputs": [
        {
          "output_type": "execute_result",
          "data": {
            "text/plain": [
              "array([2, 4, 6])"
            ]
          },
          "metadata": {},
          "execution_count": 35
        }
      ],
      "source": [
        "# max across columns\n",
        "data.max(axis=1)"
      ]
    },
    {
      "cell_type": "markdown",
      "metadata": {
        "id": "3rvRvj6nZGGK"
      },
      "source": [
        "### Adding matricies\n",
        "Once you’ve created your matrices, you can add and multiply them using arithmetic operators if you have two matrices that are the same size.\n",
        "\n",
        "![alt_text](S1-pics\\addmat.png)"
      ]
    },
    {
      "cell_type": "code",
      "execution_count": 36,
      "metadata": {
        "id": "sXiFeKSNZGGK",
        "outputId": "4e441e60-8b86-4042-b5ce-4ec19ac4da4e",
        "colab": {
          "base_uri": "https://localhost:8080/"
        }
      },
      "outputs": [
        {
          "output_type": "execute_result",
          "data": {
            "text/plain": [
              "array([[2, 3],\n",
              "       [4, 5]])"
            ]
          },
          "metadata": {},
          "execution_count": 36
        }
      ],
      "source": [
        "data = np.array([[1, 2], [3, 4]])\n",
        "ones = np.array([[1, 1], [1, 1]])\n",
        "data + ones"
      ]
    },
    {
      "cell_type": "markdown",
      "metadata": {
        "id": "QUvLcfheZGGL"
      },
      "source": [
        "You can do these arithmetic operations on matrices of different sizes, but only if one matrix has only one column or one row. In this case, NumPy will use its broadcast rules for the operation.\n",
        "\n",
        "![alt_text](S1-pics\\addrow.png)"
      ]
    },
    {
      "cell_type": "code",
      "execution_count": 37,
      "metadata": {
        "id": "KuNwenHFZGGL",
        "outputId": "24b9cbdb-38a0-4771-de1c-3701cd69a2a8",
        "colab": {
          "base_uri": "https://localhost:8080/"
        }
      },
      "outputs": [
        {
          "output_type": "execute_result",
          "data": {
            "text/plain": [
              "array([[2, 3],\n",
              "       [4, 5],\n",
              "       [6, 7]])"
            ]
          },
          "metadata": {},
          "execution_count": 37
        }
      ],
      "source": [
        "data = np.array([[1, 2], [3, 4], [5, 6]])\n",
        "ones_row = np.array([[1, 1]])\n",
        "data + ones_row"
      ]
    },
    {
      "cell_type": "markdown",
      "metadata": {
        "id": "yZvWvokmZGGM"
      },
      "source": [
        "Be aware that when NumPy prints N-dimensional arrays, the last axis is looped over the fastest while the first axis is the slowest. For instance:"
      ]
    },
    {
      "cell_type": "code",
      "execution_count": 38,
      "metadata": {
        "id": "m4UV9pEWZGGM",
        "outputId": "a1e198f6-10b8-4d19-ed69-36b2dfb26976",
        "colab": {
          "base_uri": "https://localhost:8080/"
        }
      },
      "outputs": [
        {
          "output_type": "execute_result",
          "data": {
            "text/plain": [
              "array([[[1., 1.],\n",
              "        [1., 1.],\n",
              "        [1., 1.]],\n",
              "\n",
              "       [[1., 1.],\n",
              "        [1., 1.],\n",
              "        [1., 1.]],\n",
              "\n",
              "       [[1., 1.],\n",
              "        [1., 1.],\n",
              "        [1., 1.]],\n",
              "\n",
              "       [[1., 1.],\n",
              "        [1., 1.],\n",
              "        [1., 1.]]])"
            ]
          },
          "metadata": {},
          "execution_count": 38
        }
      ],
      "source": [
        "np.ones((4, 3, 2))"
      ]
    },
    {
      "cell_type": "markdown",
      "metadata": {
        "id": "ylwXmI-nZGGN"
      },
      "source": [
        "There are often instances where we want NumPy to initialize the values of an array.\n",
        "\n",
        "NumPy offers functions like `ones()` and `zeros()`, and the `random.Generator` class for random number generation for that.\n",
        "\n",
        "All you need to do is pass in the number of elements you want it to generate:\n",
        "\n",
        "![alt_text](S1-pics\\10r.png)"
      ]
    },
    {
      "cell_type": "code",
      "execution_count": 39,
      "metadata": {
        "id": "kGBvCRL8ZGGN",
        "outputId": "0b1554de-c10e-4a72-8999-dae7c752bfc1",
        "colab": {
          "base_uri": "https://localhost:8080/"
        }
      },
      "outputs": [
        {
          "output_type": "execute_result",
          "data": {
            "text/plain": [
              "array([1., 1., 1.])"
            ]
          },
          "metadata": {},
          "execution_count": 39
        }
      ],
      "source": [
        "np.ones(3)"
      ]
    },
    {
      "cell_type": "code",
      "execution_count": 40,
      "metadata": {
        "id": "SGeNxgpeZGGO",
        "outputId": "c97ed4ed-c82d-4fb5-c5ae-3344cf1cae32",
        "colab": {
          "base_uri": "https://localhost:8080/"
        }
      },
      "outputs": [
        {
          "output_type": "execute_result",
          "data": {
            "text/plain": [
              "array([0., 0., 0.])"
            ]
          },
          "metadata": {},
          "execution_count": 40
        }
      ],
      "source": [
        "np.zeros(3)"
      ]
    },
    {
      "cell_type": "code",
      "execution_count": 41,
      "metadata": {
        "id": "wx0AvcwhZGGO",
        "outputId": "a4a3c43c-57c2-45c7-f730-a69d9be0d2eb",
        "colab": {
          "base_uri": "https://localhost:8080/"
        }
      },
      "outputs": [
        {
          "output_type": "execute_result",
          "data": {
            "text/plain": [
              "array([0.63696169, 0.26978671, 0.04097352])"
            ]
          },
          "metadata": {},
          "execution_count": 41
        }
      ],
      "source": [
        "# the simplest way to generate random numbers\n",
        "rng = np.random.default_rng(0)\n",
        "rng.random(3)"
      ]
    },
    {
      "cell_type": "markdown",
      "metadata": {
        "id": "I6H-AaZPZGGP"
      },
      "source": [
        "---\n",
        "You can also use `ones()`, `zeros()`, and `random()` to create a `2D array` if you give them a `tuple` describing the dimensions of the matrix:\n",
        "![alt_text](S1-pics\\tuple.png)"
      ]
    },
    {
      "cell_type": "code",
      "execution_count": 42,
      "metadata": {
        "id": "oANzgwuZZGGP",
        "outputId": "a369a407-10a0-4ebb-fa2f-1be3b62b7002",
        "colab": {
          "base_uri": "https://localhost:8080/"
        }
      },
      "outputs": [
        {
          "output_type": "execute_result",
          "data": {
            "text/plain": [
              "array([[1., 1.],\n",
              "       [1., 1.],\n",
              "       [1., 1.]])"
            ]
          },
          "metadata": {},
          "execution_count": 42
        }
      ],
      "source": [
        "np.ones((3, 2))"
      ]
    },
    {
      "cell_type": "code",
      "execution_count": 43,
      "metadata": {
        "id": "kN2dnXOuZGGR",
        "outputId": "94fa0a7e-3d39-4e61-feac-6d4853c36d54",
        "colab": {
          "base_uri": "https://localhost:8080/"
        }
      },
      "outputs": [
        {
          "output_type": "execute_result",
          "data": {
            "text/plain": [
              "array([[0., 0.],\n",
              "       [0., 0.],\n",
              "       [0., 0.]])"
            ]
          },
          "metadata": {},
          "execution_count": 43
        }
      ],
      "source": [
        "np.zeros((3, 2))"
      ]
    },
    {
      "cell_type": "code",
      "execution_count": 44,
      "metadata": {
        "id": "ZTncCvfhZGGR",
        "outputId": "ac5ed624-80b8-4b34-9527-d551d50935f5",
        "colab": {
          "base_uri": "https://localhost:8080/"
        }
      },
      "outputs": [
        {
          "output_type": "execute_result",
          "data": {
            "text/plain": [
              "array([[0.01652764, 0.81327024],\n",
              "       [0.91275558, 0.60663578],\n",
              "       [0.72949656, 0.54362499]])"
            ]
          },
          "metadata": {},
          "execution_count": 44
        }
      ],
      "source": [
        "rng.random((3, 2))"
      ]
    },
    {
      "cell_type": "markdown",
      "metadata": {
        "id": "RsxmTsHRZGGS"
      },
      "source": [
        "---\n",
        "# Section 4: Generating random numbers\n",
        "The use of random number generation is an important part of the configuration and evaluation of many numerical and machine learning algorithms.\n",
        "\n",
        "Whether you need to **randomly initialize weights** in an artificial neural network, **split data into random sets**, or **randomly shuffle your dataset**, being able to generate random numbers (actually, repeatable pseudo-random numbers) is essential.\n",
        "\n",
        "With `Generator.integers`, you can generate random integers from low (remember that this is inclusive with NumPy) to high (exclusive). You can set `endpoint=True` to make the high number inclusive.\n",
        "\n",
        "You can generate a `2 x 4 array` of random integers between `0 and 4` with:"
      ]
    },
    {
      "cell_type": "code",
      "execution_count": 45,
      "metadata": {
        "id": "bCMbDAikZGGS",
        "outputId": "314426ee-2888-4ee5-d8a2-1423e2681485",
        "colab": {
          "base_uri": "https://localhost:8080/"
        }
      },
      "outputs": [
        {
          "output_type": "execute_result",
          "data": {
            "text/plain": [
              "array([[2, 4, 1, 4],\n",
              "       [3, 0, 1, 4]])"
            ]
          },
          "metadata": {},
          "execution_count": 45
        }
      ],
      "source": [
        "rng.integers(5, size=(2, 4))"
      ]
    },
    {
      "cell_type": "markdown",
      "metadata": {
        "id": "ij442nFkZGGT"
      },
      "source": [
        "**[Read more about random number generation here.](https://numpy.org/doc/stable/reference/random/index.html#numpyrandom)**"
      ]
    },
    {
      "cell_type": "markdown",
      "metadata": {
        "id": "mR2UV9ETZGGT"
      },
      "source": [
        "---\n",
        "# Section 5: How to get unique items and counts\n",
        "\n",
        "*This section covers `np.unique()`*\n",
        "\n",
        "---\n",
        "You can find the unique elements in an array easily with `np.unique`.\n",
        "\n",
        "**For example**, if you start with this array:"
      ]
    },
    {
      "cell_type": "code",
      "execution_count": 46,
      "metadata": {
        "id": "e5NE-W1jZGGU"
      },
      "outputs": [],
      "source": [
        "a = np.array([11, 11, 12, 13, 14, 15, 16, 17, 12, 13, 11, 14, 18, 19, 20])"
      ]
    },
    {
      "cell_type": "markdown",
      "metadata": {
        "id": "oD1VBSZFZGGU"
      },
      "source": [
        "you can use `np.unique` to print the unique values in your array:"
      ]
    },
    {
      "cell_type": "code",
      "execution_count": 47,
      "metadata": {
        "id": "NbuSljm8ZGGV",
        "outputId": "0dd006a7-60f2-4872-b165-646fd23f822d",
        "colab": {
          "base_uri": "https://localhost:8080/"
        }
      },
      "outputs": [
        {
          "output_type": "execute_result",
          "data": {
            "text/plain": [
              "array([11, 12, 13, 14, 15, 16, 17, 18, 19, 20])"
            ]
          },
          "metadata": {},
          "execution_count": 47
        }
      ],
      "source": [
        "unique_values = np.unique(a)\n",
        "unique_values"
      ]
    },
    {
      "cell_type": "markdown",
      "metadata": {
        "id": "rWzyukzVZGGV"
      },
      "source": [
        "---\n",
        "To get the `indices` of unique values in a NumPy array (an array of ***first index positions*** of unique values in the array), just set the `return_index` argument as `True` in `np.unique()` as well as your array.\n",
        "\n",
        "**Try it**"
      ]
    },
    {
      "cell_type": "code",
      "execution_count": 49,
      "metadata": {
        "id": "ylNP0niVZGGW",
        "outputId": "7dbd62c6-a13b-4180-f223-52cdcfc9b661",
        "colab": {
          "base_uri": "https://localhost:8080/"
        }
      },
      "outputs": [
        {
          "output_type": "execute_result",
          "data": {
            "text/plain": [
              "array([ 0,  2,  3,  4,  5,  6,  7, 12, 13, 14])"
            ]
          },
          "metadata": {},
          "execution_count": 49
        }
      ],
      "source": [
        "# Code here\n",
        "unique_values, indices_list = np.unique(a, return_index=True)\n",
        "indices_list"
      ]
    },
    {
      "cell_type": "markdown",
      "metadata": {
        "id": "82cjHiYyZGGW"
      },
      "source": [
        "---\n",
        "You can pass the `return_counts` argument in `np.unique()` along with your array to get the frequency `count` of unique values in a NumPy array.\n",
        "\n",
        "**Try It**"
      ]
    },
    {
      "cell_type": "code",
      "execution_count": 50,
      "metadata": {
        "id": "d5f0or8_ZGGX",
        "outputId": "01028fad-e1fb-499e-ebb6-a38d9d25594d",
        "colab": {
          "base_uri": "https://localhost:8080/"
        }
      },
      "outputs": [
        {
          "output_type": "execute_result",
          "data": {
            "text/plain": [
              "array([3, 2, 2, 2, 1, 1, 1, 1, 1, 1])"
            ]
          },
          "metadata": {},
          "execution_count": 50
        }
      ],
      "source": [
        "# Code here\n",
        "unique_values, occurrence_count = np.unique(a, return_counts=True)\n",
        "occurrence_count"
      ]
    },
    {
      "cell_type": "markdown",
      "metadata": {
        "id": "rrw7K7WkZGGX"
      },
      "source": [
        "---\n",
        "This also works with 2D arrays! If you start with this array:"
      ]
    },
    {
      "cell_type": "code",
      "execution_count": 51,
      "metadata": {
        "id": "QgR2kQaRZGGY",
        "outputId": "f8c6bc67-d97f-4b6e-94c6-c482058e67ec",
        "colab": {
          "base_uri": "https://localhost:8080/"
        }
      },
      "outputs": [
        {
          "output_type": "execute_result",
          "data": {
            "text/plain": [
              "array([[ 1,  2,  3,  4],\n",
              "       [ 5,  6,  7,  8],\n",
              "       [ 9, 10, 11, 12],\n",
              "       [ 1,  2,  3,  4]])"
            ]
          },
          "metadata": {},
          "execution_count": 51
        }
      ],
      "source": [
        "a_2d = np.array([[1, 2, 3, 4], [5, 6, 7, 8], [9, 10, 11, 12], [1, 2, 3, 4]])\n",
        "a_2d"
      ]
    },
    {
      "cell_type": "code",
      "execution_count": 52,
      "metadata": {
        "id": "Hr1g-OOlZGGY",
        "outputId": "87e27c6e-79d4-4e9a-9d12-90c104b78c9a",
        "colab": {
          "base_uri": "https://localhost:8080/"
        }
      },
      "outputs": [
        {
          "output_type": "execute_result",
          "data": {
            "text/plain": [
              "array([ 1,  2,  3,  4,  5,  6,  7,  8,  9, 10, 11, 12])"
            ]
          },
          "metadata": {},
          "execution_count": 52
        }
      ],
      "source": [
        "unique_values = np.unique(a_2d)\n",
        "unique_values"
      ]
    },
    {
      "cell_type": "markdown",
      "metadata": {
        "id": "nPVpWCG8ZGGZ"
      },
      "source": [
        "> If the axis argument isn’t passed, your 2D array will be flattened.\n",
        "---\n",
        "\n",
        "If you want to get the `unique rows or columns`, make sure to pass the `axis` argument. To find the unique rows, specify `axis=0` and for columns, specify `axis=1`.\n",
        "\n",
        "**Like this**"
      ]
    },
    {
      "cell_type": "code",
      "execution_count": 53,
      "metadata": {
        "id": "iV-7WHOoZGGZ",
        "outputId": "5ef1d541-78b2-4be3-cf5b-45b974a221d0",
        "colab": {
          "base_uri": "https://localhost:8080/"
        }
      },
      "outputs": [
        {
          "output_type": "execute_result",
          "data": {
            "text/plain": [
              "array([[ 1,  2,  3,  4],\n",
              "       [ 5,  6,  7,  8],\n",
              "       [ 9, 10, 11, 12]])"
            ]
          },
          "metadata": {},
          "execution_count": 53
        }
      ],
      "source": [
        "unique_rows = np.unique(a_2d, axis=0)\n",
        "unique_rows"
      ]
    },
    {
      "cell_type": "markdown",
      "metadata": {
        "id": "T8n02aHgZGGZ"
      },
      "source": [
        "---\n",
        "**Try this**\n",
        "- To get the unique rows, index position, and occurrence count, you can use:"
      ]
    },
    {
      "cell_type": "code",
      "execution_count": 56,
      "metadata": {
        "id": "XmnGud6RZGGa",
        "outputId": "77c31598-2d40-4a43-a1d8-3ccae82e081b",
        "colab": {
          "base_uri": "https://localhost:8080/"
        }
      },
      "outputs": [
        {
          "output_type": "stream",
          "name": "stdout",
          "text": [
            "values:  [[ 1  2  3  4]\n",
            " [ 5  6  7  8]\n",
            " [ 9 10 11 12]\n",
            " [ 1  2  3  4]]\n",
            "indicies:  [0 1 2 3]\n",
            "count:  [1 1 1 1]\n"
          ]
        }
      ],
      "source": [
        "# code here\n",
        "unique_rows, indices, occurrence_count = np.unique(a_2d, axis=1, return_index=True, return_counts=True)\n",
        "print(\"values: \", unique_rows)\n",
        "print(\"indicies: \", indices)\n",
        "print(\"count: \", occurrence_count)"
      ]
    },
    {
      "cell_type": "markdown",
      "metadata": {
        "id": "vLsjvkyVZGGa"
      },
      "source": [
        "**[Learn more about `numpy.unique` here.](https://numpy.org/doc/stable/reference/generated/numpy.unique.html#numpy.unique)**"
      ]
    },
    {
      "cell_type": "markdown",
      "metadata": {
        "id": "tXFAXFZNZGGa"
      },
      "source": [
        "---\n",
        "# Section 6: Transposing and reshaping a matrix\n",
        "*This section covers `arr.reshape()`, `arr.transpose()`, `arr.T`*\n",
        "\n",
        "It’s common to need to transpose your matrices. NumPy arrays have the property `T` that allows you to transpose a matrix.\n",
        "\n",
        "![alt_text](S1-pics\\t1.png)\n",
        "\n",
        "You may also need to `switch the dimensions` of a matrix.\n",
        "\n",
        ">This can happen when, for example, you have a model that expects a certain input shape that is different from your dataset.\n",
        "\n",
        "This is where the reshape method can be useful. You simply need to pass in the new dimensions that you want for the matrix."
      ]
    },
    {
      "cell_type": "code",
      "execution_count": 57,
      "metadata": {
        "id": "lNLJQX-EZGGb",
        "outputId": "b4a13a23-7aba-460d-ee35-a26613e1edc0",
        "colab": {
          "base_uri": "https://localhost:8080/"
        }
      },
      "outputs": [
        {
          "output_type": "execute_result",
          "data": {
            "text/plain": [
              "array([1, 2, 3, 4, 5, 6])"
            ]
          },
          "metadata": {},
          "execution_count": 57
        }
      ],
      "source": [
        "data = np.arange(1,7)\n",
        "data"
      ]
    },
    {
      "cell_type": "code",
      "execution_count": 58,
      "metadata": {
        "id": "Jei7aKLvZGGb",
        "outputId": "b3bf6a67-9386-4dc6-ca5c-04e8735f980c",
        "colab": {
          "base_uri": "https://localhost:8080/"
        }
      },
      "outputs": [
        {
          "output_type": "execute_result",
          "data": {
            "text/plain": [
              "array([[1, 2, 3],\n",
              "       [4, 5, 6]])"
            ]
          },
          "metadata": {},
          "execution_count": 58
        }
      ],
      "source": [
        "data.reshape(2, 3)"
      ]
    },
    {
      "cell_type": "code",
      "execution_count": 59,
      "metadata": {
        "id": "lFw9bEfqZGGb",
        "outputId": "616a0008-04b4-4a01-8cc4-3404bdf4cc82",
        "colab": {
          "base_uri": "https://localhost:8080/"
        }
      },
      "outputs": [
        {
          "output_type": "execute_result",
          "data": {
            "text/plain": [
              "array([[1, 2],\n",
              "       [3, 4],\n",
              "       [5, 6]])"
            ]
          },
          "metadata": {},
          "execution_count": 59
        }
      ],
      "source": [
        "data.reshape(3, 2)"
      ]
    },
    {
      "cell_type": "markdown",
      "metadata": {
        "id": "UlHEHHx_ZGGc"
      },
      "source": [
        "\n",
        "![alt_text](S1-pics\\t2.png)\n",
        "\n",
        "You can also use `.transpose()` to reverse or change the axes of an array according to the values you specify.\n",
        "\n",
        "If you start with this array:"
      ]
    },
    {
      "cell_type": "code",
      "execution_count": 60,
      "metadata": {
        "id": "ZqGdaHdrZGGc",
        "outputId": "064beae8-3463-4f23-dad1-6c7b20e042da",
        "colab": {
          "base_uri": "https://localhost:8080/"
        }
      },
      "outputs": [
        {
          "output_type": "execute_result",
          "data": {
            "text/plain": [
              "array([[0, 1, 2],\n",
              "       [3, 4, 5]])"
            ]
          },
          "metadata": {},
          "execution_count": 60
        }
      ],
      "source": [
        "arr = np.arange(6).reshape((2, 3))\n",
        "arr"
      ]
    },
    {
      "cell_type": "markdown",
      "metadata": {
        "id": "YTMpolnzZGGc"
      },
      "source": [
        "You can transpose your array with `arr.transpose()`."
      ]
    },
    {
      "cell_type": "code",
      "execution_count": 61,
      "metadata": {
        "id": "fRmackFLZGGd",
        "outputId": "b79a3335-bff3-4781-e481-f876800b0566",
        "colab": {
          "base_uri": "https://localhost:8080/"
        }
      },
      "outputs": [
        {
          "output_type": "execute_result",
          "data": {
            "text/plain": [
              "array([[0, 3],\n",
              "       [1, 4],\n",
              "       [2, 5]])"
            ]
          },
          "metadata": {},
          "execution_count": 61
        }
      ],
      "source": [
        "arr.transpose()"
      ]
    },
    {
      "cell_type": "markdown",
      "metadata": {
        "id": "o1B1pgixZGGd"
      },
      "source": [
        "You can also use `arr.T`:"
      ]
    },
    {
      "cell_type": "code",
      "execution_count": 62,
      "metadata": {
        "id": "FaMhv7XHZGGd",
        "outputId": "9aa7b1b0-3dc5-49be-ae8f-b28503ac5f61",
        "colab": {
          "base_uri": "https://localhost:8080/"
        }
      },
      "outputs": [
        {
          "output_type": "execute_result",
          "data": {
            "text/plain": [
              "array([[0, 3],\n",
              "       [1, 4],\n",
              "       [2, 5]])"
            ]
          },
          "metadata": {},
          "execution_count": 62
        }
      ],
      "source": [
        "arr.T"
      ]
    },
    {
      "cell_type": "markdown",
      "metadata": {
        "id": "1pzPvgqmZGGe"
      },
      "source": [
        "**To learn more about transposing and reshaping arrays, see [transpose](https://numpy.org/doc/stable/reference/generated/numpy.transpose.html#numpy.transpose) and [reshape](https://numpy.org/doc/stable/reference/generated/numpy.reshape.html#numpy.reshape).**"
      ]
    },
    {
      "cell_type": "markdown",
      "metadata": {
        "id": "0V1oEwXpZGGe"
      },
      "source": [
        "---\n",
        "# Section 7: How to reverse an array\n",
        "*This section covers `np.flip()`*\n",
        "\n",
        "---\n",
        "NumPy’s `np.flip()` function allows you to ***flip, or reverse***, the contents of an array along an axis.\n",
        "\n",
        "- When using `np.flip()`, specify the array you would like to reverse and the `axis`.\n",
        "- If you don’t specify the axis, NumPy will reverse the contents along all of the axes of your input array.\n",
        "\n",
        "### Reversing a 1D array\n",
        "\n",
        "If you begin with a 1D array like this one:"
      ]
    },
    {
      "cell_type": "code",
      "execution_count": 63,
      "metadata": {
        "id": "m0xdemxeZGGe",
        "outputId": "51a87025-9e05-427f-8ace-55df1053ab5e",
        "colab": {
          "base_uri": "https://localhost:8080/"
        }
      },
      "outputs": [
        {
          "output_type": "execute_result",
          "data": {
            "text/plain": [
              "array([1, 2, 3, 4, 5, 6, 7, 8])"
            ]
          },
          "metadata": {},
          "execution_count": 63
        }
      ],
      "source": [
        "arr = np.array([1, 2, 3, 4, 5, 6, 7, 8])\n",
        "arr"
      ]
    },
    {
      "cell_type": "code",
      "execution_count": 64,
      "metadata": {
        "id": "Carv676qZGGf",
        "outputId": "a932a2bf-3bd6-40d6-e2a3-db8e27f9c66e",
        "colab": {
          "base_uri": "https://localhost:8080/"
        }
      },
      "outputs": [
        {
          "output_type": "execute_result",
          "data": {
            "text/plain": [
              "array([8, 7, 6, 5, 4, 3, 2, 1])"
            ]
          },
          "metadata": {},
          "execution_count": 64
        }
      ],
      "source": [
        "# You can reverse it with:\n",
        "reversed_arr = np.flip(arr)\n",
        "reversed_arr"
      ]
    },
    {
      "cell_type": "markdown",
      "metadata": {
        "id": "WXUhRsicZGGf"
      },
      "source": [
        "---\n",
        "### Reversing a 2D array\n",
        "\n",
        "A 2D array works much the same way.\n",
        "\n",
        "If you start with this array:"
      ]
    },
    {
      "cell_type": "code",
      "execution_count": 65,
      "metadata": {
        "id": "poQw6KXdZGGf",
        "outputId": "c2368861-9d84-4ad7-b75b-0940b5eb1da9",
        "colab": {
          "base_uri": "https://localhost:8080/"
        }
      },
      "outputs": [
        {
          "output_type": "execute_result",
          "data": {
            "text/plain": [
              "array([[ 1,  2,  3,  4],\n",
              "       [ 5,  6,  7,  8],\n",
              "       [ 9, 10, 11, 12]])"
            ]
          },
          "metadata": {},
          "execution_count": 65
        }
      ],
      "source": [
        "arr_2d = np.array([[1, 2, 3, 4], [5, 6, 7, 8], [9, 10, 11, 12]])\n",
        "arr_2d"
      ]
    },
    {
      "cell_type": "code",
      "execution_count": 66,
      "metadata": {
        "id": "4GpT_QFtZGGg",
        "outputId": "825110a4-a2fd-4bc5-d119-5174ee69a7e5",
        "colab": {
          "base_uri": "https://localhost:8080/"
        }
      },
      "outputs": [
        {
          "output_type": "execute_result",
          "data": {
            "text/plain": [
              "array([[12, 11, 10,  9],\n",
              "       [ 8,  7,  6,  5],\n",
              "       [ 4,  3,  2,  1]])"
            ]
          },
          "metadata": {},
          "execution_count": 66
        }
      ],
      "source": [
        "# You can reverse the content in all of the rows and all of the columns with:\n",
        "reversed_arr = np.flip(arr_2d)\n",
        "reversed_arr"
      ]
    },
    {
      "cell_type": "code",
      "execution_count": 67,
      "metadata": {
        "id": "CSC0pyY-ZGGh",
        "outputId": "8539dbce-6abc-48cb-c8d9-ebf98f0307c6",
        "colab": {
          "base_uri": "https://localhost:8080/"
        }
      },
      "outputs": [
        {
          "output_type": "execute_result",
          "data": {
            "text/plain": [
              "array([[ 9, 10, 11, 12],\n",
              "       [ 5,  6,  7,  8],\n",
              "       [ 1,  2,  3,  4]])"
            ]
          },
          "metadata": {},
          "execution_count": 67
        }
      ],
      "source": [
        "# You can easily reverse only the rows with:\n",
        "reversed_arr_rows = np.flip(arr_2d, axis=0)\n",
        "reversed_arr_rows"
      ]
    },
    {
      "cell_type": "code",
      "execution_count": 68,
      "metadata": {
        "id": "i25NzJi4ZGGi",
        "outputId": "94c0bd01-eeb4-42f1-c63c-e39072d046fd",
        "colab": {
          "base_uri": "https://localhost:8080/"
        }
      },
      "outputs": [
        {
          "output_type": "execute_result",
          "data": {
            "text/plain": [
              "array([[ 4,  3,  2,  1],\n",
              "       [ 8,  7,  6,  5],\n",
              "       [12, 11, 10,  9]])"
            ]
          },
          "metadata": {},
          "execution_count": 68
        }
      ],
      "source": [
        "# Or reverse only the columns with:\n",
        "reversed_arr_columns = np.flip(arr_2d, axis=1)\n",
        "reversed_arr_columns"
      ]
    },
    {
      "cell_type": "markdown",
      "metadata": {
        "id": "EJiHKVFBZGGi"
      },
      "source": [
        ">You can also reverse the contents of only one column or row. For example, you can reverse the contents of the row at index position 1 (the second row):\n"
      ]
    },
    {
      "cell_type": "code",
      "execution_count": 69,
      "metadata": {
        "id": "ktKDsVJaZGGi",
        "outputId": "0eb7edd1-ee09-4fd9-9045-dc7b7ca2f2b5",
        "colab": {
          "base_uri": "https://localhost:8080/"
        }
      },
      "outputs": [
        {
          "output_type": "execute_result",
          "data": {
            "text/plain": [
              "array([[ 1,  2,  3,  4],\n",
              "       [ 8,  7,  6,  5],\n",
              "       [ 9, 10, 11, 12]])"
            ]
          },
          "metadata": {},
          "execution_count": 69
        }
      ],
      "source": [
        "arr_2d[1] = np.flip(arr_2d[1])\n",
        "arr_2d"
      ]
    },
    {
      "cell_type": "markdown",
      "metadata": {
        "id": "u4QZQ5uYZGGj"
      },
      "source": [
        ">You can also reverse the column at index position 1 (the second column):"
      ]
    },
    {
      "cell_type": "code",
      "execution_count": 70,
      "metadata": {
        "id": "VLVhxmb9ZGGj",
        "outputId": "9c31d7c1-4521-44f1-8a82-d9a3ac9827e0",
        "colab": {
          "base_uri": "https://localhost:8080/"
        }
      },
      "outputs": [
        {
          "output_type": "execute_result",
          "data": {
            "text/plain": [
              "array([[ 1, 10,  3,  4],\n",
              "       [ 8,  7,  6,  5],\n",
              "       [ 9,  2, 11, 12]])"
            ]
          },
          "metadata": {},
          "execution_count": 70
        }
      ],
      "source": [
        "arr_2d[:,1] = np.flip(arr_2d[:,1])\n",
        "arr_2d"
      ]
    },
    {
      "cell_type": "markdown",
      "metadata": {
        "id": "Foao1-U_ZGGk"
      },
      "source": [
        "**Read more about reversing arrays at [flip](https://numpy.org/doc/stable/reference/generated/numpy.flip.html#numpy.flip).**"
      ]
    },
    {
      "cell_type": "markdown",
      "metadata": {
        "id": "6B8HXWvWZGGk"
      },
      "source": [
        "---\n",
        "# Section 9: Reshaping and flattening multidimensional arrays\n",
        "*This section covers `.flatten()`, `ravel()`*\n",
        "\n",
        "There are two popular ways to flatten an array: `.flatten()` and `.ravel()`.\n",
        "\n",
        ">The primary difference between the two is that ***the new array created using ravel() is actually a reference to the parent array (i.e., a “view”)***.\n",
        "\n",
        "This means that any changes to the new array will affect the parent array as well. Since ravel does not create a copy, it’s memory efficient.\n",
        "\n",
        "If you start with this array:"
      ]
    },
    {
      "cell_type": "code",
      "execution_count": 71,
      "metadata": {
        "id": "0o2THEhlZGGk",
        "outputId": "acfd9adb-3801-4d3e-8481-dcc2f1656b01",
        "colab": {
          "base_uri": "https://localhost:8080/"
        }
      },
      "outputs": [
        {
          "output_type": "execute_result",
          "data": {
            "text/plain": [
              "array([[ 1,  2,  3,  4],\n",
              "       [ 5,  6,  7,  8],\n",
              "       [ 9, 10, 11, 12]])"
            ]
          },
          "metadata": {},
          "execution_count": 71
        }
      ],
      "source": [
        "x = np.array([[1 , 2, 3, 4], [5, 6, 7, 8], [9, 10, 11, 12]])\n",
        "x"
      ]
    },
    {
      "cell_type": "markdown",
      "metadata": {
        "id": "zusruvt8ZGGl"
      },
      "source": [
        "**Try to**\n",
        "- Use `flatten` to flatten your array into a 1D array."
      ]
    },
    {
      "cell_type": "code",
      "execution_count": 72,
      "metadata": {
        "colab": {
          "base_uri": "https://localhost:8080/"
        },
        "id": "adF5MOeiZGGl",
        "outputId": "e1272a2d-ae91-4f4b-d217-006408e7e273"
      },
      "outputs": [
        {
          "output_type": "execute_result",
          "data": {
            "text/plain": [
              "array([ 1,  2,  3,  4,  5,  6,  7,  8,  9, 10, 11, 12])"
            ]
          },
          "metadata": {},
          "execution_count": 72
        }
      ],
      "source": [
        "# Code here\n",
        "x.flatten()"
      ]
    },
    {
      "cell_type": "markdown",
      "metadata": {
        "id": "1yKVGC-WZGGl"
      },
      "source": [
        "> **Note that:** When you use `flatten`, changes to your new array won’t change the parent array.\n",
        "\n",
        "For example:"
      ]
    },
    {
      "cell_type": "code",
      "execution_count": 73,
      "metadata": {
        "id": "6kFqnWViZGGm",
        "outputId": "9726d781-fe96-4e17-88ed-e95c1e83aaf6",
        "colab": {
          "base_uri": "https://localhost:8080/"
        }
      },
      "outputs": [
        {
          "output_type": "execute_result",
          "data": {
            "text/plain": [
              "array([ 1,  2,  3,  4,  5,  6,  7,  8,  9, 10, 11, 12])"
            ]
          },
          "metadata": {},
          "execution_count": 73
        }
      ],
      "source": [
        "a1 = x.flatten()\n",
        "a1"
      ]
    },
    {
      "cell_type": "code",
      "execution_count": 74,
      "metadata": {
        "id": "lDMf-fSaZGGm"
      },
      "outputs": [],
      "source": [
        "a1[0] = 99"
      ]
    },
    {
      "cell_type": "code",
      "execution_count": 75,
      "metadata": {
        "id": "YaCQqwVQZGGm",
        "outputId": "8c252e38-83ba-4eb1-f1c7-16683e39d17e",
        "colab": {
          "base_uri": "https://localhost:8080/"
        }
      },
      "outputs": [
        {
          "output_type": "stream",
          "name": "stdout",
          "text": [
            "[[ 1  2  3  4]\n",
            " [ 5  6  7  8]\n",
            " [ 9 10 11 12]]\n"
          ]
        }
      ],
      "source": [
        "print(x)  # Original array"
      ]
    },
    {
      "cell_type": "code",
      "execution_count": 76,
      "metadata": {
        "id": "K51aYZ0lZGGn",
        "outputId": "137c2e91-2d37-43c3-9c7b-ffb5a2fcb8b4",
        "colab": {
          "base_uri": "https://localhost:8080/"
        }
      },
      "outputs": [
        {
          "output_type": "stream",
          "name": "stdout",
          "text": [
            "[99  2  3  4  5  6  7  8  9 10 11 12]\n"
          ]
        }
      ],
      "source": [
        "print(a1)  # New array"
      ]
    },
    {
      "cell_type": "markdown",
      "metadata": {
        "id": "PpoXAisiZGGn"
      },
      "source": [
        ">**BUT**: But when you use `ravel`, the changes you make to the new array will affect the parent array.\n",
        "\n",
        "For example:"
      ]
    },
    {
      "cell_type": "code",
      "execution_count": 77,
      "metadata": {
        "id": "4VUuN0zIZGGo",
        "outputId": "94da71bc-eb38-4b42-ece7-69fd426a098f",
        "colab": {
          "base_uri": "https://localhost:8080/"
        }
      },
      "outputs": [
        {
          "output_type": "execute_result",
          "data": {
            "text/plain": [
              "array([ 1,  2,  3,  4,  5,  6,  7,  8,  9, 10, 11, 12])"
            ]
          },
          "metadata": {},
          "execution_count": 77
        }
      ],
      "source": [
        "a2 = x.ravel()\n",
        "a2"
      ]
    },
    {
      "cell_type": "code",
      "execution_count": 78,
      "metadata": {
        "id": "CoEMP-_mZGGo"
      },
      "outputs": [],
      "source": [
        "a2[0] = 98"
      ]
    },
    {
      "cell_type": "code",
      "execution_count": 79,
      "metadata": {
        "id": "Hxy5g-zrZGGo",
        "outputId": "80854d69-c537-4c91-fea2-7e42877ada62",
        "colab": {
          "base_uri": "https://localhost:8080/"
        }
      },
      "outputs": [
        {
          "output_type": "stream",
          "name": "stdout",
          "text": [
            "[[98  2  3  4]\n",
            " [ 5  6  7  8]\n",
            " [ 9 10 11 12]]\n"
          ]
        }
      ],
      "source": [
        "print(x)  # Original array"
      ]
    },
    {
      "cell_type": "code",
      "execution_count": 80,
      "metadata": {
        "id": "nZyVX8KHZGGp",
        "outputId": "1e9bbca2-c3c3-40c8-d074-0226e40fe911",
        "colab": {
          "base_uri": "https://localhost:8080/"
        }
      },
      "outputs": [
        {
          "output_type": "stream",
          "name": "stdout",
          "text": [
            "[98  2  3  4  5  6  7  8  9 10 11 12]\n"
          ]
        }
      ],
      "source": [
        "print(a2)  # New array"
      ]
    },
    {
      "cell_type": "markdown",
      "metadata": {
        "id": "ukWLO47EZGGp"
      },
      "source": [
        "**Read more about `flatten` at [ndarray.flatten](https://numpy.org/doc/stable/reference/generated/numpy.ndarray.flatten.html#numpy.ndarray.flatten) and `ravel` at [ravel](https://numpy.org/doc/stable/reference/generated/numpy.ravel.html#numpy.ravel).**"
      ]
    },
    {
      "cell_type": "markdown",
      "metadata": {
        "id": "dylp4ZNeZGGq"
      },
      "source": [
        "---\n",
        "# Section 10: How to access the docstring for more information\n",
        "*This section covers `help()`, `?`, `??`*\n",
        "\n",
        "---\n",
        "\n",
        "When it comes to the data science ecosystem, Python and NumPy are built with the user in mind. One of the best examples of this is the built-in access to documentation.\n",
        "\n",
        "Every object contains the reference to a string, which is known as the `docstring`.\n",
        "\n",
        "In most cases, this `docstring` contains a quick and concise `summary of the object` and `how to use it`.\n",
        "\n",
        "Python has a built-in `help()` function that can help you access this information.\n",
        "\n",
        "This means that nearly any time you need more information, you can use `help()` to quickly find the information that you need.\n",
        "\n",
        "**For example:**"
      ]
    },
    {
      "cell_type": "code",
      "execution_count": 81,
      "metadata": {
        "id": "ZFNxiyQDZGGq",
        "outputId": "2f1c8cff-1e35-468f-c913-ae951cbafd33",
        "colab": {
          "base_uri": "https://localhost:8080/"
        }
      },
      "outputs": [
        {
          "output_type": "stream",
          "name": "stdout",
          "text": [
            "Help on built-in function max in module builtins:\n",
            "\n",
            "max(...)\n",
            "    max(iterable, *[, default=obj, key=func]) -> value\n",
            "    max(arg1, arg2, *args, *[, key=func]) -> value\n",
            "    \n",
            "    With a single iterable argument, return its biggest item. The\n",
            "    default keyword-only argument specifies an object to return if\n",
            "    the provided iterable is empty.\n",
            "    With two or more arguments, return the largest argument.\n",
            "\n"
          ]
        }
      ],
      "source": [
        "help(max)"
      ]
    },
    {
      "cell_type": "markdown",
      "metadata": {
        "id": "PT3pJkGmZGGr"
      },
      "source": [
        "Because access to additional information is so useful, **IPython** uses the `?` character as a shorthand for accessing this documentation along with other relevant information.\n",
        "\n",
        "**IPython** is a command shell for interactive computing in multiple languages. **[You can find more information about IPython here](https://ipython.org/)**.\n",
        "\n",
        "**For example:**"
      ]
    },
    {
      "cell_type": "code",
      "execution_count": 82,
      "metadata": {
        "id": "a5VfUhsCZGGr"
      },
      "outputs": [],
      "source": [
        "max?"
      ]
    },
    {
      "cell_type": "markdown",
      "metadata": {
        "id": "3E9xth-NZGGs"
      },
      "source": [
        "![alt_text](S1-pics\\help.png)\n",
        "\n",
        "You can even use this notation for object methods and objects themselves.\n",
        "\n",
        "Let’s say you create this array:"
      ]
    },
    {
      "cell_type": "code",
      "execution_count": 83,
      "metadata": {
        "id": "T4IbQJVSZGGs"
      },
      "outputs": [],
      "source": [
        "import numpy as np\n",
        "a = np.array([1, 2, 3, 4, 5, 6])\n",
        "a?"
      ]
    },
    {
      "cell_type": "markdown",
      "metadata": {
        "id": "eBfcMNR2ZGGs"
      },
      "source": [
        "Then you can obtain a lot of useful information (first details about a itself, followed by the docstring of ndarray of which a is an instance):\n",
        "\n",
        "![alt_text](S1-pics\\h2.png)\n",
        "\n",
        "This also works for **functions** and other objects that you create.\n",
        "\n",
        ">Just remember to include a docstring with your function using a string literal (`\"\"\" \"\"\"` or `''' '''` around your documentation).\n",
        "\n",
        "For example, if you create this function:"
      ]
    },
    {
      "cell_type": "code",
      "execution_count": 84,
      "metadata": {
        "id": "c7iEUaW3ZGGs"
      },
      "outputs": [],
      "source": [
        "def double(a):\n",
        "   '''Return a * 2'''\n",
        "   return a * 2"
      ]
    },
    {
      "cell_type": "code",
      "execution_count": 88,
      "metadata": {
        "id": "otLBdtuBZGGt"
      },
      "outputs": [],
      "source": [
        "double?"
      ]
    },
    {
      "cell_type": "markdown",
      "metadata": {
        "id": "Zor40UnYZGGt"
      },
      "source": [
        "![alt_text](S1-pics\\h3.png)\n",
        "\n",
        "You can reach another level of information by reading the source code of the object you’re interested in. Using a double question mark (`??`) allows you to access the source code.\n",
        "\n",
        "For example:"
      ]
    },
    {
      "cell_type": "code",
      "execution_count": 87,
      "metadata": {
        "id": "-tPDvcAmZGGu"
      },
      "outputs": [],
      "source": [
        "double??"
      ]
    },
    {
      "cell_type": "markdown",
      "metadata": {
        "id": "WM9GniInZGGu"
      },
      "source": [
        "![alt_text](S1-pics\\h4.png)\n",
        "\n",
        "If the object in question is compiled in a language other than Python, using `??` will return the same information as `?`.\n",
        "\n",
        "You’ll find this with a lot of built-in objects and types, for example: `len?` and `len??` returns the same info.\n",
        "\n",
        "***Why they have the same output?***\n",
        ">because they were compiled in a programming language other than Python."
      ]
    },
    {
      "cell_type": "markdown",
      "metadata": {
        "id": "KKrSq2XSZGGu"
      },
      "source": [
        "---\n",
        "# Section 11: How to save and load NumPy objects\n",
        "*This section covers `np.save`, `np.savez`, `np.savetxt`, `np.load`, `np.loadtxt`*\n",
        "\n",
        "---\n",
        "\n",
        "You will, at some point, want to save your arrays to disk and load them back without having to re-run the code. Fortunately, there are several ways to save and load objects with NumPy.\n",
        "\n",
        "- The `ndarray objects` can be saved to and loaded from the disk files with `loadtxt` and `savetxt` functions that handle normal **text files**,\n",
        "- `load` and `save` functions that handle NumPy binary files with a `.npy` **file extension**,\n",
        "- and a `savez` function that handles NumPy files with a `.npz` **file extension**.\n",
        "\n",
        ">The `.npy` and `.npz` files store `data`, `shape`, `dtype`, and ***other information required to reconstruct the ndarray in a way that allows the array to be correctly retrieved***, even when the file is on another machine with different architecture.\n",
        "\n",
        "- If you want to store a *single ndarray object*, store it as a `.npy file` using `np.save`.\n",
        "- If you want to store *more than one ndarray object in a single file*, save it as a `.npz file` using `np.savez`.\n",
        "- You can also save *several arrays into a single file* in **compressed npz format** with `savez_compressed`.\n",
        "\n",
        "It’s easy to save and load and array with `np.save()`. Just make sure to specify the array you want to save and a file name.\n",
        "\n",
        "**For example**, if you create this array:\n"
      ]
    },
    {
      "cell_type": "code",
      "execution_count": 89,
      "metadata": {
        "id": "nUF1KZNmZGG3"
      },
      "outputs": [],
      "source": [
        "a = np.array([1, 2, 3, 4, 5, 6])"
      ]
    },
    {
      "cell_type": "code",
      "execution_count": 90,
      "metadata": {
        "id": "G736r6KyZGG4"
      },
      "outputs": [],
      "source": [
        "# You can save it as “filename.npy” with:\n",
        "np.save('numpy ', a)"
      ]
    },
    {
      "cell_type": "code",
      "execution_count": 91,
      "metadata": {
        "id": "jKrgOvYfZGG4"
      },
      "outputs": [],
      "source": [
        "# You can use np.load() to reconstruct your array.\n",
        "b = np.load('/content/numpy .npy')"
      ]
    },
    {
      "cell_type": "code",
      "execution_count": 92,
      "metadata": {
        "id": "FjquIK2UZGG5",
        "outputId": "9ce838d1-44a3-4ec1-86d9-03cf89cc969d",
        "colab": {
          "base_uri": "https://localhost:8080/"
        }
      },
      "outputs": [
        {
          "output_type": "stream",
          "name": "stdout",
          "text": [
            "[1 2 3 4 5 6]\n"
          ]
        }
      ],
      "source": [
        "# If you want to check your array, you can run::\n",
        "print(b)"
      ]
    },
    {
      "cell_type": "markdown",
      "metadata": {
        "id": "KZfiumonZGG5"
      },
      "source": [
        "You can save a NumPy array as a **plain text file** like a *.csv* or *.txt* file with `np.savetxt`.\n",
        "\n",
        "**For example**, if you create this array:"
      ]
    },
    {
      "cell_type": "code",
      "execution_count": 93,
      "metadata": {
        "id": "4eW-5JAJZGG5"
      },
      "outputs": [],
      "source": [
        "csv_arr = np.array([1, 2, 3, 4, 5, 6, 7, 8])"
      ]
    },
    {
      "cell_type": "code",
      "execution_count": 94,
      "metadata": {
        "id": "yUl4chh8ZGG6"
      },
      "outputs": [],
      "source": [
        "# You can easily save it as a .csv file with the name “new_file.csv” like this:\n",
        "np.savetxt('new_file.csv', csv_arr)"
      ]
    },
    {
      "cell_type": "code",
      "execution_count": 95,
      "metadata": {
        "colab": {
          "base_uri": "https://localhost:8080/"
        },
        "id": "TfpY1fRYZGG6",
        "outputId": "25fde9b0-ad06-4c0b-b701-af73378ac91d"
      },
      "outputs": [
        {
          "output_type": "execute_result",
          "data": {
            "text/plain": [
              "array([1., 2., 3., 4., 5., 6., 7., 8.])"
            ]
          },
          "metadata": {},
          "execution_count": 95
        }
      ],
      "source": [
        "# You can quickly and easily load your saved text file using loadtxt():\n",
        "np.loadtxt('new_file.csv')"
      ]
    },
    {
      "cell_type": "markdown",
      "metadata": {
        "id": "ABmkD1kaZGG6"
      },
      "source": [
        "> The `savetxt()` and `loadtxt()` functions accept additional optional parameters such as *header*, *footer*, and *delimiter*.\n",
        "    \n",
        "While text files can be easier for sharing, `.npy` and `.npz` files are smaller and faster to read.\n",
        "\n",
        ">If you need more sophisticated handling of your text file (for example, if you need to work with lines that contain missing values), you will want to use the `genfromtxt` function.\n",
        "\n",
        "Learn more about [input and output routines here](https://numpy.org/doc/stable/reference/routines.io.html#routines-io).\n",
        "\n"
      ]
    },
    {
      "cell_type": "markdown",
      "metadata": {
        "id": "7X8e6NLuZGG7"
      },
      "source": [
        "# Thank you for your time and efforts!\n",
        "### *By:Heba-T-ALLAH Raslan*"
      ]
    }
  ],
  "metadata": {
    "kernelspec": {
      "display_name": "Python 3",
      "language": "python",
      "name": "python3"
    },
    "language_info": {
      "codemirror_mode": {
        "name": "ipython",
        "version": 3
      },
      "file_extension": ".py",
      "mimetype": "text/x-python",
      "name": "python",
      "nbconvert_exporter": "python",
      "pygments_lexer": "ipython3",
      "version": "3.7.6"
    },
    "colab": {
      "provenance": []
    }
  },
  "nbformat": 4,
  "nbformat_minor": 0
}