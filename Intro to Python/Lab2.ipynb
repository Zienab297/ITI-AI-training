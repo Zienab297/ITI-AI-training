{
  "cells": [
    {
      "cell_type": "markdown",
      "metadata": {
        "id": "QCVApvP4tCnD"
      },
      "source": [
        "# Intro to Python Day 02 Lab Plain"
      ]
    },
    {
      "cell_type": "markdown",
      "metadata": {
        "id": "FHj-kktZtCnH"
      },
      "source": [
        "Compiled by Ali Heikal"
      ]
    },
    {
      "cell_type": "markdown",
      "metadata": {
        "id": "N_8lyqPitCnH"
      },
      "source": [
        "## Problem 1"
      ]
    },
    {
      "cell_type": "markdown",
      "metadata": {
        "id": "cQJ2ByuOtCnI"
      },
      "source": [
        "Write a program that implements a function of addition with two arguments that sums those arguments and returns their sum."
      ]
    },
    {
      "cell_type": "code",
      "source": [
        "sum = lambda x, y: x+y\n",
        "sum(2, 9)"
      ],
      "metadata": {
        "id": "GnOvC9dFNUhG",
        "outputId": "f10f502b-bb03-44b1-fb48-99cc18fb8974",
        "colab": {
          "base_uri": "https://localhost:8080/"
        }
      },
      "execution_count": 3,
      "outputs": [
        {
          "output_type": "execute_result",
          "data": {
            "text/plain": [
              "11"
            ]
          },
          "metadata": {},
          "execution_count": 3
        }
      ]
    },
    {
      "cell_type": "markdown",
      "metadata": {
        "id": "XIq4EkHEtCnJ"
      },
      "source": [
        "## Problem 2"
      ]
    },
    {
      "cell_type": "markdown",
      "metadata": {
        "id": "gDOg2qcItCnJ"
      },
      "source": [
        "Write a program that sums all items in a list.\n"
      ]
    },
    {
      "cell_type": "code",
      "source": [
        "lst1=[1, 2, 3]\n",
        "lst2 =[1, 2, 3]\n",
        "list_sum = [ x+y for x, y in zip(lst1, lst2)]\n",
        "print(list_sum)"
      ],
      "metadata": {
        "id": "6djm5Co7NjCJ",
        "outputId": "69f6fb1b-123b-46ba-9e40-0b5cfeeae10f",
        "colab": {
          "base_uri": "https://localhost:8080/"
        }
      },
      "execution_count": 8,
      "outputs": [
        {
          "output_type": "stream",
          "name": "stdout",
          "text": [
            "[2, 4, 6]\n"
          ]
        }
      ]
    },
    {
      "cell_type": "markdown",
      "metadata": {
        "id": "H6CBOAAYtCnJ"
      },
      "source": [
        "## Problem 3"
      ]
    },
    {
      "cell_type": "markdown",
      "metadata": {
        "id": "uHYI-NsftCnM"
      },
      "source": [
        "Write a program that accepts a string and calculate the number of  letters in the inputted string."
      ]
    },
    {
      "cell_type": "code",
      "source": [
        "def str_count(st):\n",
        "  count=0\n",
        "  for i in st:\n",
        "    if i == \" \":\n",
        "      continue\n",
        "    count +=1\n",
        "  return count\n",
        "print(str_count(\"Hello World\"))"
      ],
      "metadata": {
        "id": "UfPodXfeOnwb",
        "outputId": "2c78324c-4e49-4e97-ec1a-fa23bf6b611c",
        "colab": {
          "base_uri": "https://localhost:8080/"
        }
      },
      "execution_count": 10,
      "outputs": [
        {
          "output_type": "stream",
          "name": "stdout",
          "text": [
            "10\n"
          ]
        }
      ]
    },
    {
      "cell_type": "markdown",
      "metadata": {
        "id": "UZR4d6jStCnM"
      },
      "source": [
        "## Problem 4\n",
        "\n"
      ]
    },
    {
      "cell_type": "markdown",
      "metadata": {
        "id": "xiD8_q0XtCnM"
      },
      "source": [
        "You are given the following list.\n"
      ]
    },
    {
      "cell_type": "code",
      "execution_count": 13,
      "metadata": {
        "id": "rGINYFPZtCnN",
        "colab": {
          "base_uri": "https://localhost:8080/"
        },
        "outputId": "66f8cb46-0539-4d83-b20f-860f172d6f05"
      },
      "outputs": [
        {
          "output_type": "stream",
          "name": "stdout",
          "text": [
            "Homo sapiens is an ape. Its name has 12 letters.\n",
            "Pan troglodytes is an ape. Its name has 15 letters.\n",
            "Gorilla gorilla is an ape. Its name has 15 letters.\n"
          ]
        }
      ],
      "source": [
        "apes = [\"Homo sapiens\", \"Pan troglodytes\", \"Gorilla gorilla\"]\n",
        "for i in apes:\n",
        "  print(f\"{i} is an ape. Its name has {len(i)} letters.\")"
      ]
    },
    {
      "cell_type": "markdown",
      "metadata": {
        "id": "tTGh-rOctCnO"
      },
      "source": [
        "Write a program to print a similar out for each element in the list like the expected out below."
      ]
    },
    {
      "cell_type": "markdown",
      "metadata": {
        "id": "8OGJ-MAdtCnO"
      },
      "source": [
        "Homo sapiens is an ape. Its name has 12 letters."
      ]
    },
    {
      "cell_type": "markdown",
      "source": [
        "#Problem 5"
      ],
      "metadata": {
        "id": "hsQQ2mvqvfKV"
      }
    },
    {
      "cell_type": "markdown",
      "metadata": {
        "id": "irj3aPiCvKoh"
      },
      "source": [
        "Define a class called Songs, it will show the lyrics of a song. Its __init__() method should have two arguments: self and lyrics. lyrics is a list. Inside your class create a method called sing_me_a_song that prints each element of lyrics on its own line."
      ]
    },
    {
      "cell_type": "code",
      "source": [
        "class songs():\n",
        "  def __init__(self, lyrics):\n",
        "    self.lyrics = lyrics\n",
        "\n",
        "  def sing_me_a_song(self):\n",
        "    for x in self.lyrics:\n",
        "      print(x)"
      ],
      "metadata": {
        "id": "gzZ9ito8P_X0"
      },
      "execution_count": 14,
      "outputs": []
    },
    {
      "cell_type": "markdown",
      "source": [
        "#Problem 6\n"
      ],
      "metadata": {
        "id": "EdV5jjKyNFV2"
      }
    },
    {
      "cell_type": "markdown",
      "metadata": {
        "id": "ld0f5E6NM9Iq"
      },
      "source": [
        "Write a program that implements child class Bus that inherits all of the variables and methods of the class Vehicle then create an object from the child class and print its values."
      ]
    },
    {
      "cell_type": "code",
      "source": [
        "class Vehichle():\n",
        "  def __init__(self, year, brand):\n",
        "    self.year = year\n",
        "    self.brand = brand\n",
        "class Bus(Vehichle):\n",
        "  def __init__(self, year, brand):\n",
        "    super().__init__(year, brand)\n",
        "\n",
        "school_bus = Bus(\"2018\", \"Toyta\")"
      ],
      "metadata": {
        "id": "jXnwEmhdQqHV"
      },
      "execution_count": 15,
      "outputs": []
    },
    {
      "cell_type": "markdown",
      "source": [
        "#Problem 7\n"
      ],
      "metadata": {
        "id": "4gTdasjrNZiw"
      }
    },
    {
      "cell_type": "markdown",
      "source": [
        "Create text File and Apply all Modes on it (read& Write & Append )"
      ],
      "metadata": {
        "id": "g5DVSQqTNcoD"
      }
    },
    {
      "cell_type": "code",
      "source": [
        "name = \"problem 7.txt\"\n",
        "with open(name, 'w') as f:\n",
        "    f.write(\"Hello World!\")\n",
        "\n",
        "with open(name, 'r') as f:\n",
        "  content = f.read()\n",
        "  print(content)\n",
        "\n",
        "with open(name, 'a') as f:\n",
        "  f.write(\"Appended text\")\n",
        "\n",
        "with open(name, 'r') as f:\n",
        "  content = f.read()\n",
        "  print(content)"
      ],
      "metadata": {
        "id": "XKvK7KjJR6xO",
        "outputId": "fb9472f3-8ef7-4b36-c3d2-c876d25edcfa",
        "colab": {
          "base_uri": "https://localhost:8080/"
        }
      },
      "execution_count": 17,
      "outputs": [
        {
          "output_type": "stream",
          "name": "stdout",
          "text": [
            "Hello World!\n",
            "Hello World!Appended text\n"
          ]
        }
      ]
    }
  ],
  "metadata": {
    "kernelspec": {
      "display_name": "Python 3",
      "language": "python",
      "name": "python3"
    },
    "language_info": {
      "codemirror_mode": {
        "name": "ipython",
        "version": 3
      },
      "file_extension": ".py",
      "mimetype": "text/x-python",
      "name": "python",
      "nbconvert_exporter": "python",
      "pygments_lexer": "ipython3",
      "version": "3.8.5"
    },
    "colab": {
      "provenance": []
    }
  },
  "nbformat": 4,
  "nbformat_minor": 0
}