{
  "cells": [
    {
      "cell_type": "markdown",
      "metadata": {
        "id": "QvNtx-pyjJ_B"
      },
      "source": [
        "# Intro to Python Day 01 Lab Plain"
      ]
    },
    {
      "cell_type": "markdown",
      "metadata": {
        "id": "4dYLRjXEjJ_L"
      },
      "source": [
        "Compiled by Ali Heikal"
      ]
    },
    {
      "cell_type": "markdown",
      "metadata": {
        "id": "Ia9ENuIvjJ_N"
      },
      "source": [
        "## Problem 1"
      ]
    },
    {
      "cell_type": "markdown",
      "metadata": {
        "id": "_5-E3eP1jJ_O"
      },
      "source": [
        "Write a program to print \"Hello, World!\""
      ]
    },
    {
      "cell_type": "code",
      "execution_count": 14,
      "metadata": {
        "colab": {
          "base_uri": "https://localhost:8080/"
        },
        "id": "WU2JkkZZjJ_P",
        "outputId": "c1e7a9a0-a9d4-49c6-8620-82460ab9e254"
      },
      "outputs": [
        {
          "output_type": "stream",
          "name": "stdout",
          "text": [
            "Hello, World!\n"
          ]
        }
      ],
      "source": [
        "print(\"Hello, World!\")"
      ]
    },
    {
      "cell_type": "markdown",
      "metadata": {
        "id": "_An-kM7djJ_e"
      },
      "source": [
        "## Problem 2"
      ]
    },
    {
      "cell_type": "markdown",
      "metadata": {
        "id": "o-GZN3OUjJ_f"
      },
      "source": [
        "Write a program to print date and time and a program to print time only."
      ]
    },
    {
      "cell_type": "code",
      "source": [
        "from datetime import datetime\n",
        "date = datetime.now()\n",
        "print(date.strftime(\"%d-%m-%Y %H:%M:%S\"))\n",
        "print(date.strftime(\"%H:%M:%S\"))"
      ],
      "metadata": {
        "id": "uaN1Jzjzx0Pg",
        "outputId": "3454a268-64b7-43df-dd26-76cc95756068",
        "colab": {
          "base_uri": "https://localhost:8080/"
        }
      },
      "execution_count": 15,
      "outputs": [
        {
          "output_type": "stream",
          "name": "stdout",
          "text": [
            "23-08-2024 17:49:47\n",
            "17:49:47\n"
          ]
        }
      ]
    },
    {
      "cell_type": "markdown",
      "metadata": {
        "id": "xGBspR_wjJ_h"
      },
      "source": [
        "## Problem 3"
      ]
    },
    {
      "cell_type": "markdown",
      "metadata": {
        "id": "RUE6C17ejJ_i"
      },
      "source": [
        "Write a program that prints Python version and info of the environment you are using."
      ]
    },
    {
      "cell_type": "code",
      "source": [
        "!python --version"
      ],
      "metadata": {
        "id": "N9ZNly859H15",
        "outputId": "09a7fb1e-6e29-4957-d7bc-03ce1e40b017",
        "colab": {
          "base_uri": "https://localhost:8080/"
        }
      },
      "execution_count": 16,
      "outputs": [
        {
          "output_type": "stream",
          "name": "stdout",
          "text": [
            "Python 3.10.12\n"
          ]
        }
      ]
    },
    {
      "cell_type": "markdown",
      "metadata": {
        "id": "JPB3LzFXjJ_j"
      },
      "source": [
        "## Problem 4"
      ]
    },
    {
      "cell_type": "markdown",
      "metadata": {
        "id": "QYNO9Bh5jJ_k"
      },
      "source": [
        "Write a program that accepts input of first name and last name and then print them in reverse order."
      ]
    },
    {
      "cell_type": "code",
      "source": [
        "def name(first, last):\n",
        "  print(last, first)\n",
        "\n",
        "name(\"Zainab\", \"Ehab\")"
      ],
      "metadata": {
        "id": "CwdrqJQ6BfCR",
        "outputId": "e86ad935-f63f-468b-c15b-e73cbc431ac6",
        "colab": {
          "base_uri": "https://localhost:8080/"
        }
      },
      "execution_count": 17,
      "outputs": [
        {
          "output_type": "stream",
          "name": "stdout",
          "text": [
            "Ehab Zainab\n"
          ]
        }
      ]
    },
    {
      "cell_type": "markdown",
      "metadata": {
        "id": "-hExmMiwjJ_l"
      },
      "source": [
        "## Problem 5"
      ]
    },
    {
      "cell_type": "markdown",
      "metadata": {
        "id": "tLvJHpoTjJ_l"
      },
      "source": [
        "Write a program that accepts one word from the user and print it in reverse order."
      ]
    },
    {
      "cell_type": "code",
      "source": [
        "def reverse(s):\n",
        "  return s[::-1]\n",
        "reverse(\"Hello\")"
      ],
      "metadata": {
        "id": "5S5codODB6E9",
        "outputId": "50f12b83-7d18-45a2-d62c-8c82b305f84c",
        "colab": {
          "base_uri": "https://localhost:8080/",
          "height": 36
        }
      },
      "execution_count": 18,
      "outputs": [
        {
          "output_type": "execute_result",
          "data": {
            "text/plain": [
              "'olleH'"
            ],
            "application/vnd.google.colaboratory.intrinsic+json": {
              "type": "string"
            }
          },
          "metadata": {},
          "execution_count": 18
        }
      ]
    },
    {
      "cell_type": "markdown",
      "metadata": {
        "id": "7oNO-AKsjJ_m"
      },
      "source": [
        "## Problem 6"
      ]
    },
    {
      "cell_type": "markdown",
      "metadata": {
        "id": "hMGtPOwcjJ_m"
      },
      "source": [
        "Write a program that parses a value once to float and once to integer."
      ]
    },
    {
      "cell_type": "code",
      "source": [
        "z = 2.0156\n",
        "print(float(z))\n",
        "print(int(z))"
      ],
      "metadata": {
        "id": "pFkGmoOnDV2c",
        "outputId": "605cd9c3-7930-4421-a58c-a91aee25d018",
        "colab": {
          "base_uri": "https://localhost:8080/"
        }
      },
      "execution_count": 19,
      "outputs": [
        {
          "output_type": "stream",
          "name": "stdout",
          "text": [
            "2.0156\n",
            "2\n"
          ]
        }
      ]
    },
    {
      "cell_type": "markdown",
      "metadata": {
        "id": "aqWTEwkKjJ_m"
      },
      "source": [
        "## Problem 7"
      ]
    },
    {
      "cell_type": "markdown",
      "metadata": {
        "id": "EAK18vNejJ_n"
      },
      "source": [
        "Write a program that accepts an integer and print whether it is even or odd."
      ]
    },
    {
      "cell_type": "code",
      "source": [
        "def n(m):\n",
        "  if(m % 2 == 0):\n",
        "    return \"even\"\n",
        "  return \"odd\"\n",
        "\n",
        "print(n(2))\n",
        "print(n(5))"
      ],
      "metadata": {
        "id": "6JjsIhwUDsrW",
        "outputId": "09ab11e3-a58f-4b23-e2c5-169cba604257",
        "colab": {
          "base_uri": "https://localhost:8080/"
        }
      },
      "execution_count": 20,
      "outputs": [
        {
          "output_type": "stream",
          "name": "stdout",
          "text": [
            "even\n",
            "odd\n"
          ]
        }
      ]
    },
    {
      "cell_type": "markdown",
      "metadata": {
        "id": "joZd9Y9UjJ_n"
      },
      "source": [
        "## Problem 8"
      ]
    },
    {
      "cell_type": "markdown",
      "metadata": {
        "id": "gs4rqhrMjJ_o"
      },
      "source": [
        "Write a program that accepts an integer (n) and computes the value of n+nn+nnn."
      ]
    },
    {
      "cell_type": "code",
      "source": [
        "def add(t):\n",
        "  return t + (t+(t*10)) + (t+(t*10)+(t*100))\n",
        "\n",
        "print(add(3))"
      ],
      "metadata": {
        "id": "bvIPGyZuEHKr",
        "outputId": "9daae4a9-ae19-4948-9c6e-0c38dcd4e8e4",
        "colab": {
          "base_uri": "https://localhost:8080/"
        }
      },
      "execution_count": 21,
      "outputs": [
        {
          "output_type": "stream",
          "name": "stdout",
          "text": [
            "369\n"
          ]
        }
      ]
    },
    {
      "cell_type": "markdown",
      "metadata": {
        "id": "WOXVFG7TjJ_o"
      },
      "source": [
        "## Problem 9"
      ]
    },
    {
      "cell_type": "markdown",
      "metadata": {
        "id": "UDPEEJl6jJ_p"
      },
      "source": [
        "Write a program that prints \"Hello, World!\" 3 times without using loops and without writing it more than once."
      ]
    },
    {
      "cell_type": "code",
      "source": [
        "print(\"Hello World!\" * 3)"
      ],
      "metadata": {
        "id": "eaF5uCtUEwau",
        "outputId": "6c5bbbd6-64ba-4d75-a46d-b57508d23572",
        "colab": {
          "base_uri": "https://localhost:8080/"
        }
      },
      "execution_count": 22,
      "outputs": [
        {
          "output_type": "stream",
          "name": "stdout",
          "text": [
            "Hello World!Hello World!Hello World!\n"
          ]
        }
      ]
    },
    {
      "cell_type": "markdown",
      "metadata": {
        "id": "xjr7cm6ZjJ_p"
      },
      "source": [
        "## Problem 10"
      ]
    },
    {
      "cell_type": "markdown",
      "metadata": {
        "id": "kUmggohfjJ_p"
      },
      "source": [
        "Write a program to get the length of a string, check if a word exists in a string, check if a word does not exist in a string."
      ]
    },
    {
      "cell_type": "code",
      "source": [
        "def st(s, x):\n",
        "  print(len(s))\n",
        "  if(x in s):\n",
        "    print(\"word exists\")\n",
        "  else:\n",
        "    print(\"word doesn't exist\")\n",
        "\n",
        "st(\"Hello World!\", \"Hello\")\n",
        "st(\"Hello World!\", \"Zainab\")"
      ],
      "metadata": {
        "id": "w1bS1joAE9ID",
        "outputId": "6b330d0c-be6d-4184-8372-81c545b942b6",
        "colab": {
          "base_uri": "https://localhost:8080/"
        }
      },
      "execution_count": 23,
      "outputs": [
        {
          "output_type": "stream",
          "name": "stdout",
          "text": [
            "12\n",
            "word exists\n",
            "12\n",
            "word doesn't exist\n"
          ]
        }
      ]
    },
    {
      "cell_type": "markdown",
      "metadata": {
        "id": "VTR7zVo6jJ_q"
      },
      "source": [
        "## Problem 11"
      ]
    },
    {
      "cell_type": "markdown",
      "metadata": {
        "id": "X9wIyf-njJ_r"
      },
      "source": [
        "Write a program to print the first 2 and the last 2 characters from a given a string. If the string length is less than 2, return instead an empty string."
      ]
    },
    {
      "cell_type": "code",
      "source": [
        "def length_string(s):\n",
        "  if(len(s) < 2):\n",
        "    return \"\"\n",
        "  else:\n",
        "    return s[0:2] + s[-2] + s[-1]\n",
        "\n",
        "print(length_string(\"Hello World!\"))\n",
        "print(length_string(\"H\"))"
      ],
      "metadata": {
        "id": "EXZrA34PFori",
        "outputId": "0ab2b242-2348-478a-b2a0-c1389ac6df6f",
        "colab": {
          "base_uri": "https://localhost:8080/"
        }
      },
      "execution_count": 24,
      "outputs": [
        {
          "output_type": "stream",
          "name": "stdout",
          "text": [
            "Hed!\n",
            "\n"
          ]
        }
      ]
    },
    {
      "cell_type": "markdown",
      "metadata": {
        "id": "J0J7OclNjJ_r"
      },
      "source": [
        "## Problem 12"
      ]
    },
    {
      "cell_type": "markdown",
      "metadata": {
        "id": "FcnU9wQ7jJ_r"
      },
      "source": [
        "Write a program that concatenates two lists index-wise."
      ]
    },
    {
      "cell_type": "code",
      "source": [
        "l1 = [\"Hello\", \"Zainab\", \"x\"]\n",
        "l2 = [\"World!\", \"Ehab\", \"y\"]\n",
        "l3 = [i + j for i, j in zip(l1, l2)]\n",
        "print(l3)"
      ],
      "metadata": {
        "id": "HQc6g1F0GSb9",
        "outputId": "d8ebc6e9-15b1-410a-9e14-6408c23f4215",
        "colab": {
          "base_uri": "https://localhost:8080/"
        }
      },
      "execution_count": 25,
      "outputs": [
        {
          "output_type": "stream",
          "name": "stdout",
          "text": [
            "['HelloWorld!', 'ZainabEhab', 'xy']\n"
          ]
        }
      ]
    },
    {
      "cell_type": "markdown",
      "metadata": {
        "id": "mVWSFGlJjJ_s"
      },
      "source": [
        "## Problem 13"
      ]
    },
    {
      "cell_type": "markdown",
      "metadata": {
        "id": "udbDVBcojJ_s"
      },
      "source": [
        "Write a program to square every item of a list."
      ]
    },
    {
      "cell_type": "code",
      "source": [
        "def square(l):\n",
        "  for i in range(len(l)):\n",
        "    l[i] = l[i] **2\n",
        "  return l\n",
        "\n",
        "l= [1, 8, 6, 2, 3]\n",
        "square(l)"
      ],
      "metadata": {
        "id": "9tceVvYQGZ3w",
        "outputId": "3a147ba9-bdbf-4247-f4f5-d296fb182899",
        "colab": {
          "base_uri": "https://localhost:8080/"
        }
      },
      "execution_count": 26,
      "outputs": [
        {
          "output_type": "execute_result",
          "data": {
            "text/plain": [
              "[1, 64, 36, 4, 9]"
            ]
          },
          "metadata": {},
          "execution_count": 26
        }
      ]
    },
    {
      "cell_type": "markdown",
      "metadata": {
        "id": "JAH54hdxjJ_t"
      },
      "source": [
        "## Problem 14"
      ]
    },
    {
      "cell_type": "markdown",
      "metadata": {
        "id": "4OPvOd0OjJ_t"
      },
      "source": [
        "Write a program to remove empty strings from a list of strings and then print the list."
      ]
    },
    {
      "cell_type": "code",
      "source": [
        "def empty(s):\n",
        "  for i in s:\n",
        "    if i ==\"\":\n",
        "      s.remove(i)\n",
        "\n",
        "ls = [\"\", \"Hello World\", \"xyz\", \"\"]\n",
        "print(ls)\n",
        "empty(ls)\n",
        "print(ls)"
      ],
      "metadata": {
        "id": "8c7K4ibbHZhm",
        "outputId": "4d3e0055-632a-4dd1-9d53-f08250be81c8",
        "colab": {
          "base_uri": "https://localhost:8080/"
        }
      },
      "execution_count": 27,
      "outputs": [
        {
          "output_type": "stream",
          "name": "stdout",
          "text": [
            "['', 'Hello World', 'xyz', '']\n",
            "['Hello World', 'xyz']\n"
          ]
        }
      ]
    },
    {
      "cell_type": "markdown",
      "metadata": {
        "id": "I6baJ3LZjJ_u"
      },
      "source": [
        "## Problem 15"
      ]
    },
    {
      "cell_type": "markdown",
      "metadata": {
        "id": "bCcSlC4_jJ_u"
      },
      "source": [
        "Write a program that reverses a tuple."
      ]
    },
    {
      "cell_type": "code",
      "source": [
        "ytuple = (1, 2, 3, 4, 5)\n",
        "result = ytuple[::-1]\n",
        "print(result)"
      ],
      "metadata": {
        "id": "uNgA4iFVIdeM",
        "outputId": "3fb12255-65b1-4896-b77a-5ac2cecc81ad",
        "colab": {
          "base_uri": "https://localhost:8080/"
        }
      },
      "execution_count": 28,
      "outputs": [
        {
          "output_type": "stream",
          "name": "stdout",
          "text": [
            "(5, 4, 3, 2, 1)\n"
          ]
        }
      ]
    },
    {
      "cell_type": "markdown",
      "metadata": {
        "id": "T0wQN-60jJ_u"
      },
      "source": [
        "## Problem 16"
      ]
    },
    {
      "cell_type": "markdown",
      "metadata": {
        "id": "UnxBlqMwjJ_v"
      },
      "source": [
        "Write a program that converts a tuple to individual variables.\n",
        "\n"
      ]
    },
    {
      "cell_type": "code",
      "source": [
        "xtuple = (2, 10, 7)\n",
        "a, b, c = xtuple\n",
        "print(a, b, c)"
      ],
      "metadata": {
        "id": "3GEyLg8VJcG_",
        "outputId": "2e03040c-1b56-44f3-9691-e570923be50c",
        "colab": {
          "base_uri": "https://localhost:8080/"
        }
      },
      "execution_count": 29,
      "outputs": [
        {
          "output_type": "stream",
          "name": "stdout",
          "text": [
            "2 10 7\n"
          ]
        }
      ]
    },
    {
      "cell_type": "markdown",
      "metadata": {
        "id": "ATvJ8zcxjJ_v"
      },
      "source": [
        "## Problem 17"
      ]
    },
    {
      "cell_type": "markdown",
      "metadata": {
        "id": "GL4g5j4njJ_v"
      },
      "source": [
        "Write a program to count of occurrences of an item.\n",
        "\n",
        "\n",
        "\n"
      ]
    },
    {
      "cell_type": "code",
      "source": [
        "def ntimes(ilist, item):\n",
        "  return ilist.count(item)\n",
        "listx = [1, 5, 1, 3, 2, 1]\n",
        "print(ntimes(listx, 1))"
      ],
      "metadata": {
        "id": "KwiZsld_JxrU",
        "outputId": "b4cf913c-0fc9-475e-d90e-7d3e66cf77b6",
        "colab": {
          "base_uri": "https://localhost:8080/"
        }
      },
      "execution_count": 30,
      "outputs": [
        {
          "output_type": "stream",
          "name": "stdout",
          "text": [
            "3\n"
          ]
        }
      ]
    },
    {
      "cell_type": "markdown",
      "metadata": {
        "id": "2KrvMPdTjJ_v"
      },
      "source": [
        "## Problem 18"
      ]
    },
    {
      "cell_type": "markdown",
      "metadata": {
        "id": "21OOYVBxjJ_w"
      },
      "source": [
        "Write a program that detects the similar items between two sets and print them."
      ]
    },
    {
      "cell_type": "code",
      "source": [
        "def similar(x, y):\n",
        "  res =[]\n",
        "  for i in x:\n",
        "    for j in y:\n",
        "      if i == j:\n",
        "        res.append(i)\n",
        "  return res\n",
        "\n",
        "k = [1, 2, 3, 8, 4, 7]\n",
        "h = [5, 4, 3, 9]\n",
        "print(similar(k, h))"
      ],
      "metadata": {
        "id": "guRWJbRHLfAy",
        "outputId": "ca5fcae9-8e74-4f7c-9c37-6d1ee3556443",
        "colab": {
          "base_uri": "https://localhost:8080/"
        }
      },
      "execution_count": 31,
      "outputs": [
        {
          "output_type": "stream",
          "name": "stdout",
          "text": [
            "[3, 4]\n"
          ]
        }
      ]
    },
    {
      "cell_type": "markdown",
      "metadata": {
        "id": "0Mrq8JTWjJ_5"
      },
      "source": [
        "## Problem 19"
      ]
    },
    {
      "cell_type": "markdown",
      "metadata": {
        "id": "L4KeHMh7jJ_5"
      },
      "source": [
        "Write a program that combines 2 sets in a new one while removing duplicates."
      ]
    },
    {
      "cell_type": "code",
      "source": [
        "set1 = {2, 7, 6, 3, 1}\n",
        "set2 = {1, 2, 3, 4, 5}\n",
        "set3 = set1.union(set2)\n",
        "set3"
      ],
      "metadata": {
        "id": "jSTRYJSwMi95",
        "outputId": "29318708-9907-4c19-f790-daf20e194621",
        "colab": {
          "base_uri": "https://localhost:8080/"
        }
      },
      "execution_count": 32,
      "outputs": [
        {
          "output_type": "execute_result",
          "data": {
            "text/plain": [
              "{1, 2, 3, 4, 5, 6, 7}"
            ]
          },
          "metadata": {},
          "execution_count": 32
        }
      ]
    },
    {
      "cell_type": "markdown",
      "metadata": {
        "id": "o7W4Vi4LjJ_5"
      },
      "source": [
        "## Problem 20"
      ]
    },
    {
      "cell_type": "markdown",
      "metadata": {
        "id": "vwiesuxPjJ_6"
      },
      "source": [
        "Write a program that removes values in set 1 similar to values in set 2 and print the result."
      ]
    },
    {
      "cell_type": "code",
      "source": [
        "set1 = {1, 9, 2, 7, 3}\n",
        "set2 = {1, 2}\n",
        "resset = set1.difference(set2)\n",
        "print(resset)"
      ],
      "metadata": {
        "id": "vMe-mhYWNAL_",
        "outputId": "3e1838c9-ecd7-4cfc-fbf2-22ac09e9b74d",
        "colab": {
          "base_uri": "https://localhost:8080/"
        }
      },
      "execution_count": 7,
      "outputs": [
        {
          "output_type": "stream",
          "name": "stdout",
          "text": [
            "{9, 3, 7}\n"
          ]
        }
      ]
    },
    {
      "cell_type": "markdown",
      "metadata": {
        "id": "JXxz8L3qjJ_6"
      },
      "source": [
        "## Problem 21"
      ]
    },
    {
      "cell_type": "markdown",
      "metadata": {
        "id": "o-KvFoPZjJ_6"
      },
      "source": [
        "Write a program that converts two lists to a dictionary."
      ]
    },
    {
      "cell_type": "code",
      "source": [
        "words = [\"one\", \"two\", \"three\"]\n",
        "nums = [1, 2, 3]\n",
        "dict1 = {words[i]: nums[i] for i in range(len(nums))}\n",
        "dict1"
      ],
      "metadata": {
        "id": "XEzVrIp7U1iA",
        "outputId": "412b61ad-d8a4-4b0a-bbc4-8afea19bcf1c",
        "colab": {
          "base_uri": "https://localhost:8080/"
        }
      },
      "execution_count": 10,
      "outputs": [
        {
          "output_type": "execute_result",
          "data": {
            "text/plain": [
              "{'one': 1, 'two': 2, 'three': 3}"
            ]
          },
          "metadata": {},
          "execution_count": 10
        }
      ]
    },
    {
      "cell_type": "markdown",
      "metadata": {
        "id": "bIsHdxkGjJ_7"
      },
      "source": [
        "## Problem 22"
      ]
    },
    {
      "cell_type": "markdown",
      "metadata": {
        "id": "x0n6w9DgjJ_7"
      },
      "source": [
        "Write a program that extracts specific keys from a given dictionary and create a new dictionary out of them."
      ]
    },
    {
      "cell_type": "code",
      "source": [
        "keys = [\"hi\", \"x\", \"y\"]\n",
        "dictx = {\"hi\": 5, \"lol\": 1, \"x\": 7, \"key\": 4, \"y\": 2}\n",
        "resDict = {key: dictx[key] for key in keys if key in dictx}\n",
        "resDict"
      ],
      "metadata": {
        "id": "X9Q1jyBVVvov",
        "outputId": "a771fdb3-95bd-4688-d04d-b33fbbc81b1d",
        "colab": {
          "base_uri": "https://localhost:8080/"
        }
      },
      "execution_count": 12,
      "outputs": [
        {
          "output_type": "execute_result",
          "data": {
            "text/plain": [
              "{'hi': 5, 'x': 7, 'y': 2}"
            ]
          },
          "metadata": {},
          "execution_count": 12
        }
      ]
    },
    {
      "cell_type": "markdown",
      "metadata": {
        "id": "q778dR61jJ_7"
      },
      "source": [
        "## Problem 23"
      ]
    },
    {
      "cell_type": "markdown",
      "metadata": {
        "id": "Sbft804YjJ_7"
      },
      "source": [
        "Write a program that removes keys from a given dictionary without creating a new dictionary."
      ]
    },
    {
      "cell_type": "code",
      "execution_count": 13,
      "metadata": {
        "id": "uwdpyQ63jJ_8",
        "outputId": "14bf7d37-c4b9-4261-e916-672ce724a97d",
        "colab": {
          "base_uri": "https://localhost:8080/"
        }
      },
      "outputs": [
        {
          "output_type": "execute_result",
          "data": {
            "text/plain": [
              "{'lol': 1, 'key': 4}"
            ]
          },
          "metadata": {},
          "execution_count": 13
        }
      ],
      "source": [
        "for key in keys:\n",
        "  if key in dictx:\n",
        "    dictx.pop(key)\n",
        "\n",
        "dictx"
      ]
    }
  ],
  "metadata": {
    "kernelspec": {
      "display_name": "Python 3",
      "language": "python",
      "name": "python3"
    },
    "language_info": {
      "codemirror_mode": {
        "name": "ipython",
        "version": 3
      },
      "file_extension": ".py",
      "mimetype": "text/x-python",
      "name": "python",
      "nbconvert_exporter": "python",
      "pygments_lexer": "ipython3",
      "version": "3.7.4"
    },
    "colab": {
      "provenance": []
    }
  },
  "nbformat": 4,
  "nbformat_minor": 0
}